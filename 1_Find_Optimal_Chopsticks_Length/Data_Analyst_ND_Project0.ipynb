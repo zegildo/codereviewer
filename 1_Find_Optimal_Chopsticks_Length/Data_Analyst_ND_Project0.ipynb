{
 "cells": [
  {
   "cell_type": "markdown",
   "metadata": {},
   "source": [
    "# Pauzinhos Japoneses!\n",
    "\n",
    "Alguns pesquisadores decidiram investigar o comprimento ótimo de palitinhos para crianças e adultos. Eles inventaram uma medida de quão efetivo um par de pauzinhos é chamado \"Desempenho de Pinçar Comida\". Esta medida é determinada pelo número de amendoins pinçados e colocados dentro de um copo (PPPC).\n",
    "\n",
    "### Uma investigação para determinar o comprimento ótimo de palitinhos.\n",
    "[Link para o Resumo e o Artigo (em inglês)](http://www.ncbi.nlm.nih.gov/pubmed/15676839)  \n",
    "*the abstract below was adapted from the link*\n",
    "\n",
    "Os palitinhos são uma das ferramentas manuais mais simples e populares desenvolvidos pelo ser humano, mas que não tinham sido investigados anteriormente por ergonomistas. Dois estudos em laboratório foram conduzidos nessa pesquisa, utilizando um projeto de bloco completo randomizado para avaliar os efeitos do comprimento dos palitinhos no desempenho de servir comida de adultos e crianças. Trinta e um calouros universitários, do sexo masculino, e 21 crianças dos primeiros anos do ensino fundamental serviram como participantes do experimento para testar o comprimento de palitinhos dos tamanhos 180, 210, 240, 270, 300 e 330 mm. O resultado mostrou que o desempenho de pinçar comida foi significativamente afetado pelo comprimento dos palitinhos, e os palitinhos de 240 e 180 mm foram ótimos para adultos e crianças, respectivamente. Baseado nesses achados, os pesquisadores sugerem que as famílias com crianças providenciassem ambos palitinhos de 240 e 180 mm. Além disso, restaurantes poderiam providenciar palitinhos de 240 e 180 mm, considerando o trade-off entre ergonomia e custo.\n",
    "\n",
    "### Para o resto deste projeto, responda todas as perguntas baseando-se somente na análise do experimento com os trinta um alunos calouros universitários.\n",
    "\n",
    "Faça o download do [conjunto de dados dos adultos](https://www.udacity.com/api/nodes/4576183932/supplemental_media/chopstick-effectivenesscsv/download), depois responda as seguintes questões baseadas no resumo e no conjunto de dados.\n",
    "\n",
    "Se você der um duplo clique nesta célula, você verá que o texto mudou e que toda a formatação foi removida. Isso permite que você edite esse bloco de texto. Esse bloco de texto foi escrito utilizando Markdown, que é uma maneira de formatar o texto utilizando cabeçalhos, links, itálicos e outra opções. Você aprenderá mais sobre o Markdown posteriormente no Programa Nanodegree. Para mostrar o texto formatado pressione shift + enter ou shift + return."
   ]
  },
  {
   "cell_type": "markdown",
   "metadata": {},
   "source": [
    "## Cálculo da média:\n",
    "Esta análise se propõe a calcular a média..."
   ]
  },
  {
   "cell_type": "code",
   "execution_count": 1,
   "metadata": {
    "collapsed": false
   },
   "outputs": [
    {
     "name": "stdout",
     "output_type": "stream",
     "text": [
      "3\n"
     ]
    }
   ],
   "source": [
    "array = [1,2,3,4,5,6]\n",
    "print sum(array)/len(array)"
   ]
  },
  {
   "cell_type": "markdown",
   "metadata": {},
   "source": [
    "#### 1. Qual é a variável independente nesse experimento ?\n",
    "Chopstick length.\n"
   ]
  },
  {
   "cell_type": "markdown",
   "metadata": {},
   "source": [
    "#### 2. Qual é a variável dependente do experimento ?\n",
    "Food pinching efficiency.\n"
   ]
  },
  {
   "cell_type": "markdown",
   "metadata": {},
   "source": [
    "#### 3. Como a variável dependente é operacionalmente definida ?\n",
    "Food pinching efficiency, the dependet variable is defined by counting the number of peanuts picked and placed in a cup (PPPC)."
   ]
  },
  {
   "cell_type": "markdown",
   "metadata": {},
   "source": [
    "#### 4. Baseado na descrição do experimento e no conjunto de dados, cite duas variáveis que você sabe que eram controladas.\n",
    "We can mention:\n",
    "\n",
    " <ul>\n",
    "  <li>Chopsticks lengths (180, 210, 240, 270, 300, and 330 mm);</li>\n",
    "  <li>Profile of the participants of the experiment (male junior college students);</li>\n",
    "  <li>Number of participants in the experiment;</li>\n",
    "  <li>The kind of peanuts (<a href=\"http://www.peanutdocs.ncsu.edu/images/cultivars/web/V-C_all_(12).JPG\">about kinds of peanuts</a>\n",
    ");</li>\n",
    "    <li>The shape, volume and dimensions of the cups (<a href=\"http://www.theodmgroup.com/wp-content/uploads/2011/04/different-shapes-and-sizes-of-cups-and-mugs.jpg\">about size of cups</a>, <a href=\"http://www.thepapercupcompany.com/assets/images/single-wall-cold-drink-cup-dimendions-pp.png\">about shape of cups</a>).</li>\n",
    "</ul> "
   ]
  },
  {
   "cell_type": "markdown",
   "metadata": {},
   "source": [
    "Uma das grandes vantagens de utilizar o iPython Notebook é que você pode documentar sua análise de dados utilizando código, adicionando comentários ao código, ou até mesmo adicionando blocos de texto utilizando o Markdown. Esses Notebooks permitem que você colabore com outras pessoas e compartilhe seu trabalho. Por enquanto, vamos ver alguns códigos que geram estatísticas."
   ]
  },
  {
   "cell_type": "code",
   "execution_count": 1,
   "metadata": {
    "collapsed": false
   },
   "outputs": [],
   "source": [
    "import pandas as pd\n",
    "\n",
    "# pandas is a software library for data manipulation and analysis\n",
    "# We commonly use shorter nicknames for certain packages. Pandas is often abbreviated to pd.\n",
    "# hit shift + enter to run this cell or block of code"
   ]
  },
  {
   "cell_type": "code",
   "execution_count": 2,
   "metadata": {
    "collapsed": false
   },
   "outputs": [
    {
     "data": {
      "text/html": [
       "<div>\n",
       "<table border=\"1\" class=\"dataframe\">\n",
       "  <thead>\n",
       "    <tr style=\"text-align: right;\">\n",
       "      <th></th>\n",
       "      <th>Food.Pinching.Efficiency</th>\n",
       "      <th>Individual</th>\n",
       "      <th>Chopstick.Length</th>\n",
       "    </tr>\n",
       "  </thead>\n",
       "  <tbody>\n",
       "    <tr>\n",
       "      <th>0</th>\n",
       "      <td>19.55</td>\n",
       "      <td>1</td>\n",
       "      <td>180</td>\n",
       "    </tr>\n",
       "    <tr>\n",
       "      <th>1</th>\n",
       "      <td>27.24</td>\n",
       "      <td>2</td>\n",
       "      <td>180</td>\n",
       "    </tr>\n",
       "    <tr>\n",
       "      <th>2</th>\n",
       "      <td>28.76</td>\n",
       "      <td>3</td>\n",
       "      <td>180</td>\n",
       "    </tr>\n",
       "    <tr>\n",
       "      <th>3</th>\n",
       "      <td>31.19</td>\n",
       "      <td>4</td>\n",
       "      <td>180</td>\n",
       "    </tr>\n",
       "    <tr>\n",
       "      <th>4</th>\n",
       "      <td>21.91</td>\n",
       "      <td>5</td>\n",
       "      <td>180</td>\n",
       "    </tr>\n",
       "    <tr>\n",
       "      <th>5</th>\n",
       "      <td>27.62</td>\n",
       "      <td>6</td>\n",
       "      <td>180</td>\n",
       "    </tr>\n",
       "    <tr>\n",
       "      <th>6</th>\n",
       "      <td>29.46</td>\n",
       "      <td>7</td>\n",
       "      <td>180</td>\n",
       "    </tr>\n",
       "    <tr>\n",
       "      <th>7</th>\n",
       "      <td>26.35</td>\n",
       "      <td>8</td>\n",
       "      <td>180</td>\n",
       "    </tr>\n",
       "    <tr>\n",
       "      <th>8</th>\n",
       "      <td>26.69</td>\n",
       "      <td>9</td>\n",
       "      <td>180</td>\n",
       "    </tr>\n",
       "    <tr>\n",
       "      <th>9</th>\n",
       "      <td>30.22</td>\n",
       "      <td>10</td>\n",
       "      <td>180</td>\n",
       "    </tr>\n",
       "    <tr>\n",
       "      <th>10</th>\n",
       "      <td>27.81</td>\n",
       "      <td>11</td>\n",
       "      <td>180</td>\n",
       "    </tr>\n",
       "    <tr>\n",
       "      <th>11</th>\n",
       "      <td>23.46</td>\n",
       "      <td>12</td>\n",
       "      <td>180</td>\n",
       "    </tr>\n",
       "    <tr>\n",
       "      <th>12</th>\n",
       "      <td>23.64</td>\n",
       "      <td>13</td>\n",
       "      <td>180</td>\n",
       "    </tr>\n",
       "    <tr>\n",
       "      <th>13</th>\n",
       "      <td>27.85</td>\n",
       "      <td>14</td>\n",
       "      <td>180</td>\n",
       "    </tr>\n",
       "    <tr>\n",
       "      <th>14</th>\n",
       "      <td>20.62</td>\n",
       "      <td>15</td>\n",
       "      <td>180</td>\n",
       "    </tr>\n",
       "    <tr>\n",
       "      <th>15</th>\n",
       "      <td>25.35</td>\n",
       "      <td>16</td>\n",
       "      <td>180</td>\n",
       "    </tr>\n",
       "    <tr>\n",
       "      <th>16</th>\n",
       "      <td>28.00</td>\n",
       "      <td>17</td>\n",
       "      <td>180</td>\n",
       "    </tr>\n",
       "    <tr>\n",
       "      <th>17</th>\n",
       "      <td>23.49</td>\n",
       "      <td>18</td>\n",
       "      <td>180</td>\n",
       "    </tr>\n",
       "    <tr>\n",
       "      <th>18</th>\n",
       "      <td>27.77</td>\n",
       "      <td>19</td>\n",
       "      <td>180</td>\n",
       "    </tr>\n",
       "    <tr>\n",
       "      <th>19</th>\n",
       "      <td>18.48</td>\n",
       "      <td>20</td>\n",
       "      <td>180</td>\n",
       "    </tr>\n",
       "    <tr>\n",
       "      <th>20</th>\n",
       "      <td>23.01</td>\n",
       "      <td>21</td>\n",
       "      <td>180</td>\n",
       "    </tr>\n",
       "    <tr>\n",
       "      <th>21</th>\n",
       "      <td>22.66</td>\n",
       "      <td>22</td>\n",
       "      <td>180</td>\n",
       "    </tr>\n",
       "    <tr>\n",
       "      <th>22</th>\n",
       "      <td>23.24</td>\n",
       "      <td>23</td>\n",
       "      <td>180</td>\n",
       "    </tr>\n",
       "    <tr>\n",
       "      <th>23</th>\n",
       "      <td>22.82</td>\n",
       "      <td>24</td>\n",
       "      <td>180</td>\n",
       "    </tr>\n",
       "    <tr>\n",
       "      <th>24</th>\n",
       "      <td>17.94</td>\n",
       "      <td>25</td>\n",
       "      <td>180</td>\n",
       "    </tr>\n",
       "    <tr>\n",
       "      <th>25</th>\n",
       "      <td>26.67</td>\n",
       "      <td>26</td>\n",
       "      <td>180</td>\n",
       "    </tr>\n",
       "    <tr>\n",
       "      <th>26</th>\n",
       "      <td>28.98</td>\n",
       "      <td>27</td>\n",
       "      <td>180</td>\n",
       "    </tr>\n",
       "    <tr>\n",
       "      <th>27</th>\n",
       "      <td>21.48</td>\n",
       "      <td>28</td>\n",
       "      <td>180</td>\n",
       "    </tr>\n",
       "    <tr>\n",
       "      <th>28</th>\n",
       "      <td>14.47</td>\n",
       "      <td>29</td>\n",
       "      <td>180</td>\n",
       "    </tr>\n",
       "    <tr>\n",
       "      <th>29</th>\n",
       "      <td>28.29</td>\n",
       "      <td>30</td>\n",
       "      <td>180</td>\n",
       "    </tr>\n",
       "    <tr>\n",
       "      <th>...</th>\n",
       "      <td>...</td>\n",
       "      <td>...</td>\n",
       "      <td>...</td>\n",
       "    </tr>\n",
       "    <tr>\n",
       "      <th>156</th>\n",
       "      <td>26.18</td>\n",
       "      <td>2</td>\n",
       "      <td>330</td>\n",
       "    </tr>\n",
       "    <tr>\n",
       "      <th>157</th>\n",
       "      <td>25.93</td>\n",
       "      <td>3</td>\n",
       "      <td>330</td>\n",
       "    </tr>\n",
       "    <tr>\n",
       "      <th>158</th>\n",
       "      <td>28.61</td>\n",
       "      <td>4</td>\n",
       "      <td>330</td>\n",
       "    </tr>\n",
       "    <tr>\n",
       "      <th>159</th>\n",
       "      <td>20.54</td>\n",
       "      <td>5</td>\n",
       "      <td>330</td>\n",
       "    </tr>\n",
       "    <tr>\n",
       "      <th>160</th>\n",
       "      <td>26.44</td>\n",
       "      <td>6</td>\n",
       "      <td>330</td>\n",
       "    </tr>\n",
       "    <tr>\n",
       "      <th>161</th>\n",
       "      <td>29.36</td>\n",
       "      <td>7</td>\n",
       "      <td>330</td>\n",
       "    </tr>\n",
       "    <tr>\n",
       "      <th>162</th>\n",
       "      <td>19.77</td>\n",
       "      <td>8</td>\n",
       "      <td>330</td>\n",
       "    </tr>\n",
       "    <tr>\n",
       "      <th>163</th>\n",
       "      <td>31.69</td>\n",
       "      <td>9</td>\n",
       "      <td>330</td>\n",
       "    </tr>\n",
       "    <tr>\n",
       "      <th>164</th>\n",
       "      <td>24.64</td>\n",
       "      <td>10</td>\n",
       "      <td>330</td>\n",
       "    </tr>\n",
       "    <tr>\n",
       "      <th>165</th>\n",
       "      <td>22.09</td>\n",
       "      <td>11</td>\n",
       "      <td>330</td>\n",
       "    </tr>\n",
       "    <tr>\n",
       "      <th>166</th>\n",
       "      <td>23.42</td>\n",
       "      <td>12</td>\n",
       "      <td>330</td>\n",
       "    </tr>\n",
       "    <tr>\n",
       "      <th>167</th>\n",
       "      <td>28.63</td>\n",
       "      <td>13</td>\n",
       "      <td>330</td>\n",
       "    </tr>\n",
       "    <tr>\n",
       "      <th>168</th>\n",
       "      <td>26.30</td>\n",
       "      <td>14</td>\n",
       "      <td>330</td>\n",
       "    </tr>\n",
       "    <tr>\n",
       "      <th>169</th>\n",
       "      <td>22.89</td>\n",
       "      <td>15</td>\n",
       "      <td>330</td>\n",
       "    </tr>\n",
       "    <tr>\n",
       "      <th>170</th>\n",
       "      <td>22.68</td>\n",
       "      <td>16</td>\n",
       "      <td>330</td>\n",
       "    </tr>\n",
       "    <tr>\n",
       "      <th>171</th>\n",
       "      <td>30.92</td>\n",
       "      <td>17</td>\n",
       "      <td>330</td>\n",
       "    </tr>\n",
       "    <tr>\n",
       "      <th>172</th>\n",
       "      <td>20.74</td>\n",
       "      <td>18</td>\n",
       "      <td>330</td>\n",
       "    </tr>\n",
       "    <tr>\n",
       "      <th>173</th>\n",
       "      <td>27.24</td>\n",
       "      <td>19</td>\n",
       "      <td>330</td>\n",
       "    </tr>\n",
       "    <tr>\n",
       "      <th>174</th>\n",
       "      <td>17.12</td>\n",
       "      <td>20</td>\n",
       "      <td>330</td>\n",
       "    </tr>\n",
       "    <tr>\n",
       "      <th>175</th>\n",
       "      <td>23.63</td>\n",
       "      <td>21</td>\n",
       "      <td>330</td>\n",
       "    </tr>\n",
       "    <tr>\n",
       "      <th>176</th>\n",
       "      <td>20.91</td>\n",
       "      <td>22</td>\n",
       "      <td>330</td>\n",
       "    </tr>\n",
       "    <tr>\n",
       "      <th>177</th>\n",
       "      <td>23.49</td>\n",
       "      <td>23</td>\n",
       "      <td>330</td>\n",
       "    </tr>\n",
       "    <tr>\n",
       "      <th>178</th>\n",
       "      <td>24.86</td>\n",
       "      <td>24</td>\n",
       "      <td>330</td>\n",
       "    </tr>\n",
       "    <tr>\n",
       "      <th>179</th>\n",
       "      <td>16.28</td>\n",
       "      <td>25</td>\n",
       "      <td>330</td>\n",
       "    </tr>\n",
       "    <tr>\n",
       "      <th>180</th>\n",
       "      <td>21.52</td>\n",
       "      <td>26</td>\n",
       "      <td>330</td>\n",
       "    </tr>\n",
       "    <tr>\n",
       "      <th>181</th>\n",
       "      <td>27.22</td>\n",
       "      <td>27</td>\n",
       "      <td>330</td>\n",
       "    </tr>\n",
       "    <tr>\n",
       "      <th>182</th>\n",
       "      <td>17.41</td>\n",
       "      <td>28</td>\n",
       "      <td>330</td>\n",
       "    </tr>\n",
       "    <tr>\n",
       "      <th>183</th>\n",
       "      <td>16.42</td>\n",
       "      <td>29</td>\n",
       "      <td>330</td>\n",
       "    </tr>\n",
       "    <tr>\n",
       "      <th>184</th>\n",
       "      <td>28.22</td>\n",
       "      <td>30</td>\n",
       "      <td>330</td>\n",
       "    </tr>\n",
       "    <tr>\n",
       "      <th>185</th>\n",
       "      <td>27.52</td>\n",
       "      <td>31</td>\n",
       "      <td>330</td>\n",
       "    </tr>\n",
       "  </tbody>\n",
       "</table>\n",
       "<p>186 rows × 3 columns</p>\n",
       "</div>"
      ],
      "text/plain": [
       "     Food.Pinching.Efficiency  Individual  Chopstick.Length\n",
       "0                       19.55           1               180\n",
       "1                       27.24           2               180\n",
       "2                       28.76           3               180\n",
       "3                       31.19           4               180\n",
       "4                       21.91           5               180\n",
       "5                       27.62           6               180\n",
       "6                       29.46           7               180\n",
       "7                       26.35           8               180\n",
       "8                       26.69           9               180\n",
       "9                       30.22          10               180\n",
       "10                      27.81          11               180\n",
       "11                      23.46          12               180\n",
       "12                      23.64          13               180\n",
       "13                      27.85          14               180\n",
       "14                      20.62          15               180\n",
       "15                      25.35          16               180\n",
       "16                      28.00          17               180\n",
       "17                      23.49          18               180\n",
       "18                      27.77          19               180\n",
       "19                      18.48          20               180\n",
       "20                      23.01          21               180\n",
       "21                      22.66          22               180\n",
       "22                      23.24          23               180\n",
       "23                      22.82          24               180\n",
       "24                      17.94          25               180\n",
       "25                      26.67          26               180\n",
       "26                      28.98          27               180\n",
       "27                      21.48          28               180\n",
       "28                      14.47          29               180\n",
       "29                      28.29          30               180\n",
       "..                        ...         ...               ...\n",
       "156                     26.18           2               330\n",
       "157                     25.93           3               330\n",
       "158                     28.61           4               330\n",
       "159                     20.54           5               330\n",
       "160                     26.44           6               330\n",
       "161                     29.36           7               330\n",
       "162                     19.77           8               330\n",
       "163                     31.69           9               330\n",
       "164                     24.64          10               330\n",
       "165                     22.09          11               330\n",
       "166                     23.42          12               330\n",
       "167                     28.63          13               330\n",
       "168                     26.30          14               330\n",
       "169                     22.89          15               330\n",
       "170                     22.68          16               330\n",
       "171                     30.92          17               330\n",
       "172                     20.74          18               330\n",
       "173                     27.24          19               330\n",
       "174                     17.12          20               330\n",
       "175                     23.63          21               330\n",
       "176                     20.91          22               330\n",
       "177                     23.49          23               330\n",
       "178                     24.86          24               330\n",
       "179                     16.28          25               330\n",
       "180                     21.52          26               330\n",
       "181                     27.22          27               330\n",
       "182                     17.41          28               330\n",
       "183                     16.42          29               330\n",
       "184                     28.22          30               330\n",
       "185                     27.52          31               330\n",
       "\n",
       "[186 rows x 3 columns]"
      ]
     },
     "execution_count": 2,
     "metadata": {},
     "output_type": "execute_result"
    }
   ],
   "source": [
    "path = r'chopstick-effectiveness.csv'\n",
    "\n",
    "dataFrame = pd.read_csv(path)\n",
    "dataFrame"
   ]
  },
  {
   "cell_type": "markdown",
   "metadata": {},
   "source": [
    "Vamos fazer um cálculo de estatística básico com os dados utilizando código! Execute o bloco de código abaixo para calcular a média da \"Eficiência de Pinçar Comida\" para os 31 participantes e todos os comprimentos de palitinhos."
   ]
  },
  {
   "cell_type": "code",
   "execution_count": 5,
   "metadata": {
    "collapsed": false
   },
   "outputs": [
    {
     "data": {
      "text/plain": [
       "25.005591397849461"
      ]
     },
     "execution_count": 5,
     "metadata": {},
     "output_type": "execute_result"
    }
   ],
   "source": [
    "dataFrame['Food.Pinching.Efficiency'].mean()"
   ]
  },
  {
   "cell_type": "markdown",
   "metadata": {},
   "source": [
    "Esse número é útil, mas esse número não nos dá ciência de qual dos comprimentos de palitinhos tiveram o melhor desempenho para trinta calouros universitários, do sexo masculino. Vamos separar os dados pelo tamanho dos palitinhos. O próximo bloco de código vai gerar a média da \"Eficiência de Pinçar Comida\" para cada comprimento de palitinhos. Execute o bloco de código abaixo."
   ]
  },
  {
   "cell_type": "code",
   "execution_count": 6,
   "metadata": {
    "collapsed": false
   },
   "outputs": [
    {
     "data": {
      "text/html": [
       "<div>\n",
       "<table border=\"1\" class=\"dataframe\">\n",
       "  <thead>\n",
       "    <tr style=\"text-align: right;\">\n",
       "      <th></th>\n",
       "      <th>Chopstick.Length</th>\n",
       "      <th>Food.Pinching.Efficiency</th>\n",
       "    </tr>\n",
       "  </thead>\n",
       "  <tbody>\n",
       "    <tr>\n",
       "      <th>0</th>\n",
       "      <td>180</td>\n",
       "      <td>24.935161</td>\n",
       "    </tr>\n",
       "    <tr>\n",
       "      <th>1</th>\n",
       "      <td>210</td>\n",
       "      <td>25.483871</td>\n",
       "    </tr>\n",
       "    <tr>\n",
       "      <th>2</th>\n",
       "      <td>240</td>\n",
       "      <td>26.322903</td>\n",
       "    </tr>\n",
       "    <tr>\n",
       "      <th>3</th>\n",
       "      <td>270</td>\n",
       "      <td>24.323871</td>\n",
       "    </tr>\n",
       "    <tr>\n",
       "      <th>4</th>\n",
       "      <td>300</td>\n",
       "      <td>24.968065</td>\n",
       "    </tr>\n",
       "    <tr>\n",
       "      <th>5</th>\n",
       "      <td>330</td>\n",
       "      <td>23.999677</td>\n",
       "    </tr>\n",
       "  </tbody>\n",
       "</table>\n",
       "</div>"
      ],
      "text/plain": [
       "   Chopstick.Length  Food.Pinching.Efficiency\n",
       "0               180                 24.935161\n",
       "1               210                 25.483871\n",
       "2               240                 26.322903\n",
       "3               270                 24.323871\n",
       "4               300                 24.968065\n",
       "5               330                 23.999677"
      ]
     },
     "execution_count": 6,
     "metadata": {},
     "output_type": "execute_result"
    }
   ],
   "source": [
    "meansByChopstickLength = dataFrame.groupby('Chopstick.Length')['Food.Pinching.Efficiency'].mean().reset_index()\n",
    "meansByChopstickLength"
   ]
  },
  {
   "cell_type": "markdown",
   "metadata": {},
   "source": [
    "#### 5. Qual comprimento dos palitinhos é o melhor para o grupo de trinta e um estudantes calouros universitários, do sexo masculino?\n",
    "\n",
    "The chopstick length of 240 mm showed on average the best Food Pinching Performance.\n"
   ]
  },
  {
   "cell_type": "code",
   "execution_count": 7,
   "metadata": {
    "collapsed": false
   },
   "outputs": [
    {
     "name": "stdout",
     "output_type": "stream",
     "text": [
      "Populating the interactive namespace from numpy and matplotlib\n"
     ]
    },
    {
     "data": {
      "image/png": "[encoded data removed]",
      "text/plain": [
       "<matplotlib.figure.Figure at 0x10647f110>"
      ]
     },
     "metadata": {},
     "output_type": "display_data"
    }
   ],
   "source": [
    "# Causes plots to display within the notebook rather than in a new window\n",
    "%pylab inline\n",
    "\n",
    "import matplotlib.pyplot as plt\n",
    "\n",
    "plt.scatter(x=meansByChopstickLength['Chopstick.Length'], y=meansByChopstickLength['Food.Pinching.Efficiency'])\n",
    "            # title=\"\")\n",
    "plt.xlabel(\"Length in mm\")\n",
    "plt.ylabel(\"Efficiency in PPPC\")\n",
    "plt.title(\"Average Food Pinching Efficiency by Chopstick Length\")\n",
    "plt.show()"
   ]
  },
  {
   "cell_type": "markdown",
   "metadata": {},
   "source": [
    "#### 6. Baseado no gráfico de dispersão criado a partir do código abaixo, interprete a relação que você vê. O que você percebe?\n",
    "\n",
    "<ul>\n",
    "  <li>The *Efficiency in PPPC* is the average of values on Food.Pinching.Efficiency for a given *Chopstick.Length*. The average it is a central tendency measure very sensitive to extreme values. Then if only one participant was very efficient or very ineficinet in a specific chopstick length it was enought to impact the results significantly. Thus, to make a more precise analysis is necessary to know the standard deviation around that average.</li>\n",
    "  <li>On average, size of chopstick greater than 240 mm are less efficient than smaller values.</li>\n",
    "  <li>Below we build three regression models for 1, 2 and 3 degrees. Based only on the scatterplot above it is possible to see a <b>nonlinear</b> relationship between the averages of *Chopstick Length* <b>and</b> *Efficiency in PPPC* with a <a href=\"https://en.wikipedia.org/wiki/Inflection_point\">inflexion point</a> of maximum on the point <b>(240,26.32)</b>. On the other words, when Chopstick Length increase the efficiency in PPPC also increase until the 240mm where it reaches the maximum efficiency (on average). After this point an increase on Chopstick Length results on the decrease of the efficiency in PPPC.</li>\n",
    "  <li>It would be possible to draw better conclusions of a boxplot graph. (Example below)</li>\n",
    "\n",
    "</ul> \n",
    "\n"
   ]
  },
  {
   "cell_type": "code",
   "execution_count": 11,
   "metadata": {
    "collapsed": false
   },
   "outputs": [
    {
     "data": {
      "image/png": "[encoded data removed]",
      "text/plain": [
       "<matplotlib.figure.Figure at 0x106684710>"
      ]
     },
     "metadata": {},
     "output_type": "display_data"
    }
   ],
   "source": [
    "x,y = meansByChopstickLength['Chopstick.Length'],meansByChopstickLength['Food.Pinching.Efficiency']\n",
    "plt.scatter(x,y,s=[20,20,70,20,20,20])\n",
    "z_1, z_2, z_3 = np.polyfit(x, y, 1), np.polyfit(x, y, 2),np.polyfit(x, y, 3)\n",
    "p_1, p_2, p_3 = np.poly1d(z_1), np.poly1d(z_2), np.poly1d(z_3)\n",
    "degree_1 = plt.plot(x, p_1(x), 'k-.', label='1 degree') \n",
    "degree_2 = plt.plot(x, p_2(x), 'r-.', label='2 degree') \n",
    "degree_3 = plt.plot(x, p_3(x), 'g-.', label='3 degree') \n",
    "plt.xlabel(\"Length in mm\")\n",
    "plt.ylabel(\"Efficiency in PPPC\")\n",
    "plt.title(\"Average Food Pinching Efficiency by Chopstick Length\")\n",
    "plt.xlim(160,340)\n",
    "legend(loc=1, bbox_to_anchor=(1.6, 1))\n",
    "plt.show()"
   ]
  },
  {
   "cell_type": "markdown",
   "metadata": {},
   "source": [
    "### No resumo, os pesquisadores estabelecem que os resultados de desempenho de pinçar comida são significativamente afetados pelo comprimento dos palitinhos, e que os palitinhos de 240 mm são ótimos para adultos.¶\n",
    "\n",
    "\n",
    "#### 7a. Baseado nos dados que você analisou, você concorda com a afirmação ?\n",
    "No, I do not.\n",
    "\n",
    "#### 7b. Por quê?\n",
    "Based only on the data we have analyzed we can not conclude that the chopsticks of about 240 mm long were optimal for adults because this value was derivated by average and it is a central tendency measure very sensitive to extreme values. If only one participant was very efficient or very ineficinet in a specific chopstick length it was enought to impact the results significantly. Thus, to make a more precise analysis is necessary to know the standard deviation around that average.\n",
    "\n",
    "The Figure below show us a <b>boxplot</b> for each chopstick lenght. We realized even with a outlier the lenght of 180 mm shows a slightly higher median that 240 mm and less variantion to individuals effectiveness. "
   ]
  },
  {
   "cell_type": "code",
   "execution_count": 8,
   "metadata": {
    "collapsed": false
   },
   "outputs": [
    {
     "data": {
      "text/plain": [
       "([<matplotlib.axis.XTick at 0x10e98dad0>,\n",
       "  <matplotlib.axis.XTick at 0x10e98d890>,\n",
       "  <matplotlib.axis.XTick at 0x10eb404d0>,\n",
       "  <matplotlib.axis.XTick at 0x10ebfcd10>,\n",
       "  <matplotlib.axis.XTick at 0x10ec08490>,\n",
       "  <matplotlib.axis.XTick at 0x10b578450>],\n",
       " <a list of 6 Text xticklabel objects>)"
      ]
     },
     "execution_count": 8,
     "metadata": {},
     "output_type": "execute_result"
    },
    {
     "data": {
      "image/png": "[encoded data removed]",
      "text/plain": [
       "<matplotlib.figure.Figure at 0x10b5c5350>"
      ]
     },
     "metadata": {},
     "output_type": "display_data"
    }
   ],
   "source": [
    "groupByChopstickLength = dataFrame.groupby('Chopstick.Length')['Food.Pinching.Efficiency']\n",
    "plt.boxplot([v for i,v in groupByChopstickLength])\n",
    "plt.xticks([1, 2, 3, 4, 5, 6], [i for i,v in groupByChopstickLength])"
   ]
  },
  {
   "cell_type": "markdown",
   "metadata": {
    "collapsed": true
   },
   "source": [
    "### 1. Relação de alunos de outras cidades e a UFERSA angicos"
   ]
  },
  {
   "cell_type": "code",
   "execution_count": null,
   "metadata": {
    "collapsed": true
   },
   "outputs": [],
   "source": []
  },
  {
   "cell_type": "markdown",
   "metadata": {},
   "source": [
    "### 2. A proporção entre homens e mulheres que desistem dos cursos"
   ]
  },
  {
   "cell_type": "code",
   "execution_count": null,
   "metadata": {
    "collapsed": true
   },
   "outputs": [],
   "source": []
  }
 ],
 "metadata": {
  "kernelspec": {
   "display_name": "Python 2",
   "language": "python",
   "name": "python2"
  },
  "language_info": {
   "codemirror_mode": {
    "name": "ipython",
    "version": 2
   },
   "file_extension": ".py",
   "mimetype": "text/x-python",
   "name": "python",
   "nbconvert_exporter": "python",
   "pygments_lexer": "ipython2",
   "version": "2.7.10"
  }
 },
 "nbformat": 4,
 "nbformat_minor": 0
}
