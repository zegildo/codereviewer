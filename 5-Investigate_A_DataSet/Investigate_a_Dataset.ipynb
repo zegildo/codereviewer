{
 "cells": [
  {
   "cell_type": "markdown",
   "metadata": {},
   "source": [
    "# Project: Investigate a Dataset (Replace this with something more specific!)\n",
    "\n",
    "## Table of Contents\n",
    "<ul>\n",
    "<li><a href=\"#intro\">Introduction</a></li>\n",
    "<li><a href=\"#wrangling\">Data Wrangling</a></li>\n",
    "<li><a href=\"#eda\">Exploratory Data Analysis</a></li>\n",
    "<li><a href=\"#conclusions\">Conclusions</a></li>\n",
    "</ul>"
   ]
  },
  {
   "cell_type": "markdown",
   "metadata": {},
   "source": [
    "<a id='intro'></a>\n",
    "## Introduction\n",
    "\n",
    "> **Tip**: In this section of the report, provide a brief introduction to the dataset you've selected for analysis. At the end of this section, describe the questions that you plan on exploring over the course of the report. Try to build your report around the analysis of at least one dependent variable and three independent variables. If you're not sure what questions to ask, then make sure you familiarize yourself with the dataset, its variables and the dataset context for ideas of what to explore.\n",
    "\n",
    "> If you haven't yet selected and downloaded your data, make sure you do that first before coming back here. In order to work with the data in this workspace, you also need to upload it to the workspace. To do so, click on the jupyter icon in the upper left to be taken back to the workspace directory. There should be an 'Upload' button in the upper right that will let you add your data file(s) to the workspace. You can then click on the .ipynb file name to come back here.\n"
   ]
  },
  {
   "cell_type": "markdown",
   "metadata": {},
   "source": [
    "## DataSet: _No-show appointments_\n",
    "\n",
    "This dataset collects information from 100k medical appointments in Brazil and is focused on the question of whether or not patients show up for their appointment. A number of characteristics about the patient are included in each row.\n",
    "\n",
    "<li>**ScheduledDay:** tells us on what day the patient set up their appointment.\n",
    "<li>**Neighborhood:** indicates the location of the hospital.\n",
    "<li>**Scholarship:** indicates whether or not the patient is enrolled in Brasilian welfare program Bolsa Família.\n",
    "Be careful about the encoding of the last column: it says ‘No’ if the patient showed up to their appointment, and ‘Yes’ if they did not show up."
   ]
  },
  {
   "cell_type": "markdown",
   "metadata": {},
   "source": [
    "## Questions\n",
    "\n",
    "<li>**1)** Who are most missing out on appointments are men or women?\n",
    "<li>**2)** What is the proportion of patients don't show up for their appointments?\n",
    "<li>**3)** What is the distribution of age of patients that don't show up for their appointments?\n",
    "<li>**4)** Is there any relation between desease and show up for an appointment?\n",
    "<li>**5)** Where is the city with most no-show ups?\n",
    "<li>**6)** What is the month, day of week and day period with more amount of no-show ups?\n",
    "<li>**7)** Is there any correlation between to get an scholarship (welfare) and show up to the appointments?    \n"
   ]
  },
  {
   "cell_type": "code",
   "execution_count": 2,
   "metadata": {},
   "outputs": [],
   "source": [
    "# Use this cell to set up import statements for all of the packages that you\n",
    "#   plan to use.\n",
    "\n",
    "# Remember to include a 'magic word' so that your visualizations are plotted\n",
    "#   inline with the notebook. See this page for more:\n",
    "#   http://ipython.readthedocs.io/en/stable/interactive/magics.html"
   ]
  },
  {
   "cell_type": "markdown",
   "metadata": {},
   "source": [
    "<a id='wrangling'></a>\n",
    "## Data Wrangling\n",
    "\n",
    "### General Properties"
   ]
  },
  {
   "cell_type": "markdown",
   "metadata": {},
   "source": [
    "### 1) Load data and print out few lines"
   ]
  },
  {
   "cell_type": "code",
   "execution_count": 3,
   "metadata": {},
   "outputs": [
    {
     "data": {
      "text/plain": [
       "(110527, 14)"
      ]
     },
     "execution_count": 3,
     "metadata": {},
     "output_type": "execute_result"
    }
   ],
   "source": [
    "# Load your data and print out a few lines. \n",
    "%matplotlib inline\n",
    "import pandas as pd\n",
    "df_appointments = pd.read_csv('noshowappointments-kagglev2-may-2016.csv');\n",
    "df_appointments.shape"
   ]
  },
  {
   "cell_type": "markdown",
   "metadata": {},
   "source": [
    "### 2) We define an index\n",
    "Even could exist multiples rows with the same patient there is no make sense use the same appointment for more than one patient. We'll check if information in AppointmentIDs are really unique."
   ]
  },
  {
   "cell_type": "code",
   "execution_count": 4,
   "metadata": {},
   "outputs": [
    {
     "data": {
      "text/plain": [
       "0"
      ]
     },
     "execution_count": 4,
     "metadata": {},
     "output_type": "execute_result"
    }
   ],
   "source": [
    "apptments_counts = pd.DataFrame(df_appointments.AppointmentID.value_counts())\n",
    "dict_apptments = apptments_counts[apptments_counts['AppointmentID'] > 1]\n",
    "len(dict_apptments)"
   ]
  },
  {
   "cell_type": "markdown",
   "metadata": {},
   "source": [
    "### Analysis:\n",
    "We can use the column **AppoitmentID** with index\n"
   ]
  },
  {
   "cell_type": "markdown",
   "metadata": {},
   "source": [
    "### 3) We create a new dataframe indexed by AppointmentID"
   ]
  },
  {
   "cell_type": "code",
   "execution_count": 5,
   "metadata": {},
   "outputs": [
    {
     "data": {
      "text/plain": [
       "(110527, 13)"
      ]
     },
     "execution_count": 5,
     "metadata": {},
     "output_type": "execute_result"
    }
   ],
   "source": [
    "df_appointments = pd.read_csv('noshowappointments-kagglev2-may-2016.csv', index_col='AppointmentID');\n",
    "df_appointments.shape"
   ]
  },
  {
   "cell_type": "markdown",
   "metadata": {},
   "source": [
    "### 4) Check integrity of each column\n",
    "\n",
    "Based on the [Data Dictionary](https://www.kaggle.com/joniarroba/noshowappointments) available on kaggle. We perform operations to inspect data types and look for instances of missing or possibly errant data."
   ]
  },
  {
   "cell_type": "markdown",
   "metadata": {},
   "source": [
    "#### GENDER\n",
    "Gender only can be **F**-Female or **M**-Male.\n",
    "The condition to check if is something wrong with this variable is:"
   ]
  },
  {
   "cell_type": "code",
   "execution_count": 6,
   "metadata": {},
   "outputs": [
    {
     "data": {
      "text/plain": [
       "0"
      ]
     },
     "execution_count": 6,
     "metadata": {},
     "output_type": "execute_result"
    }
   ],
   "source": [
    "GENDER_NOK = ~df_appointments['Gender'].isin(['F','M'])\n",
    "len(df_appointments[GENDER_NOK])"
   ]
  },
  {
   "cell_type": "markdown",
   "metadata": {},
   "source": [
    "#### AGES\n",
    "How old is the patient. The **age** should be bigger than 0 and small than 115 (biggest age on the data). All values different of it is probably an error on data. The condition to check if is something wrong with this variable is:"
   ]
  },
  {
   "cell_type": "code",
   "execution_count": 7,
   "metadata": {},
   "outputs": [
    {
     "data": {
      "text/plain": [
       "1"
      ]
     },
     "execution_count": 7,
     "metadata": {},
     "output_type": "execute_result"
    }
   ],
   "source": [
    "AGES_NOK = (df_appointments['Age'] < 0) | (df_appointments['Age'] > 115) | (df_appointments['Age'] is None)\n",
    "len(df_appointments[AGES_NOK])"
   ]
  },
  {
   "cell_type": "markdown",
   "metadata": {},
   "source": [
    "#### NEIGHBOURHOOD\n",
    "Where the appointment takes place. This variable should not be empty or incomprehensible.\n",
    "We are interested in all lines where place is empty:"
   ]
  },
  {
   "cell_type": "code",
   "execution_count": 8,
   "metadata": {},
   "outputs": [
    {
     "data": {
      "text/plain": [
       "0"
      ]
     },
     "execution_count": 8,
     "metadata": {},
     "output_type": "execute_result"
    }
   ],
   "source": [
    "NEIGHBOURHOOD_NOK = df_appointments['Neighbourhood'] == \"\"\n",
    "len(df_appointments[NEIGHBOURHOOD_NOK])"
   ]
  },
  {
   "cell_type": "markdown",
   "metadata": {},
   "source": [
    "#### SCHOLARSHIP, HIPERTENSION, DIABETES, ALCOHOLISM, HANDCAP\n",
    "These variables only can be **0-False** or **1-True**. All lines that show a different value of this are inconsistent. The condition to check if is something wrong with this variable is:"
   ]
  },
  {
   "cell_type": "code",
   "execution_count": 9,
   "metadata": {},
   "outputs": [
    {
     "name": "stdout",
     "output_type": "stream",
     "text": [
      "199\n",
      "199\n"
     ]
    }
   ],
   "source": [
    "#There is no problem with these variables\n",
    "SCHOLARSHIP_NOK = ~df_appointments['Scholarship'].isin([0,1])\n",
    "HIPERTENSION_NOK = ~df_appointments['Hipertension'].isin([0,1])\n",
    "DIABETES_NOK = ~df_appointments['Diabetes'].isin([0,1])\n",
    "ALCOHOLISM_NOK = ~df_appointments['Alcoholism'].isin([0,1])\n",
    "HANDCAP_NOK = ~df_appointments['Handcap'].isin([0,1])\n",
    "\n",
    "#Handcap is responsable for all inconsistence\n",
    "print(len(df_appointments[SCHOLARSHIP_NOK | HIPERTENSION_NOK | DIABETES_NOK | ALCOHOLISM_NOK | HANDCAP_NOK]))\n",
    "print(len(df_appointments[HANDCAP_NOK]))"
   ]
  },
  {
   "cell_type": "markdown",
   "metadata": {},
   "source": [
    "#### SMS_RECEIVED\n",
    "This variable show the amount of SMS sent to the pacient. It can be 1 or more messages. All lines with different values are inconsistent. The condition to check if is something wrong with this variable is:"
   ]
  },
  {
   "cell_type": "code",
   "execution_count": 10,
   "metadata": {},
   "outputs": [
    {
     "data": {
      "text/plain": [
       "75045"
      ]
     },
     "execution_count": 10,
     "metadata": {},
     "output_type": "execute_result"
    }
   ],
   "source": [
    "SMS_RECEIVED_NOK = ~(df_appointments['SMS_received'] > 0)\n",
    "len(df_appointments[SMS_RECEIVED_NOK])"
   ]
  },
  {
   "cell_type": "markdown",
   "metadata": {},
   "source": [
    "#### NO_SHOW_OK\n",
    "No-Show should be **No** when the patient _shows up_ for the appointment and **Yes** when the paciente doesn't show up for the appointment. The condition to check if is something wrong with this variable is:"
   ]
  },
  {
   "cell_type": "code",
   "execution_count": 11,
   "metadata": {},
   "outputs": [
    {
     "data": {
      "text/plain": [
       "0"
      ]
     },
     "execution_count": 11,
     "metadata": {},
     "output_type": "execute_result"
    }
   ],
   "source": [
    "NO_SHOW_OK = ~df_appointments['No-show'].isin(['No','Yes'])\n",
    "len(df_appointments[NO_SHOW_OK])"
   ]
  },
  {
   "cell_type": "markdown",
   "metadata": {},
   "source": [
    "### 5) Plot a _percentage_ of erros present in each variable"
   ]
  },
  {
   "cell_type": "code",
   "execution_count": 12,
   "metadata": {},
   "outputs": [
    {
     "data": {
      "text/plain": [
       "<matplotlib.axes._subplots.AxesSubplot at 0x7f3bee464208>"
      ]
     },
     "execution_count": 12,
     "metadata": {},
     "output_type": "execute_result"
    },
    {
     "data": {
      "image/png": "[encoded data removed]",
      "text/plain": [
       "<matplotlib.figure.Figure at 0x7f3bed502828>"
      ]
     },
     "metadata": {},
     "output_type": "display_data"
    }
   ],
   "source": [
    "ERROS_VARS = ['AGES_NOK','GENDER_NOK','NO_SHOW_OK','SCHOLARSHIP_NOK',\n",
    "              'HIPERTENSION_NOK','DIABETES_NOK','ALCOHOLISM_NOK',\n",
    "              'HANDCAP_NOK','SMS_RECEIVED_NOK', 'NEIGHBOURHOOD_NOK']\n",
    "errors_dict = [(name, len(df_appointments[eval(name)]) / len(df_appointments)) for name in ERROS_VARS]\n",
    "\n",
    "df_errors = pd.DataFrame(errors_dict, columns=['errors','percentage'])\n",
    "df_errors.set_index('errors', inplace=True)\n",
    "df_errors.plot.bar(figsize=(15, 4))"
   ]
  },
  {
   "cell_type": "markdown",
   "metadata": {},
   "source": [
    "### Analysis: \n",
    "SMS_RECEVED_NOK and HANDCAP_NOK present erros. No one of our questions take theses variables into account. So, we will remove theses two column from dataset."
   ]
  },
  {
   "cell_type": "markdown",
   "metadata": {},
   "source": [
    "> **Tip**: You should _not_ perform too many operations in each cell. Create cells freely to explore your data. One option that you can take with this project is to do a lot of explorations in an initial notebook. These don't have to be organized, but make sure you use enough comments to understand the purpose of each code cell. Then, after you're done with your analysis, create a duplicate notebook where you will trim the excess and organize your steps so that you have a flowing, cohesive report.\n",
    "\n",
    "> **Tip**: Make sure that you keep your reader informed on the steps that you are taking in your investigation. Follow every code cell, or every set of related code cells, with a markdown cell to describe to the reader what was found in the preceding cell(s). Try to make it so that the reader can then understand what they will be seeing in the following cell(s).\n",
    "\n",
    "### Data Cleaning (Replace this with more specific notes!)"
   ]
  },
  {
   "cell_type": "code",
   "execution_count": 13,
   "metadata": {},
   "outputs": [
    {
     "data": {
      "text/html": [
       "<div>\n",
       "<style>\n",
       "    .dataframe thead tr:only-child th {\n",
       "        text-align: right;\n",
       "    }\n",
       "\n",
       "    .dataframe thead th {\n",
       "        text-align: left;\n",
       "    }\n",
       "\n",
       "    .dataframe tbody tr th {\n",
       "        vertical-align: top;\n",
       "    }\n",
       "</style>\n",
       "<table border=\"1\" class=\"dataframe\">\n",
       "  <thead>\n",
       "    <tr style=\"text-align: right;\">\n",
       "      <th></th>\n",
       "      <th>PatientId</th>\n",
       "      <th>Gender</th>\n",
       "      <th>ScheduledDay</th>\n",
       "      <th>AppointmentDay</th>\n",
       "      <th>Age</th>\n",
       "      <th>Neighbourhood</th>\n",
       "      <th>Scholarship</th>\n",
       "      <th>Hipertension</th>\n",
       "      <th>Diabetes</th>\n",
       "      <th>Alcoholism</th>\n",
       "      <th>No-show</th>\n",
       "    </tr>\n",
       "    <tr>\n",
       "      <th>AppointmentID</th>\n",
       "      <th></th>\n",
       "      <th></th>\n",
       "      <th></th>\n",
       "      <th></th>\n",
       "      <th></th>\n",
       "      <th></th>\n",
       "      <th></th>\n",
       "      <th></th>\n",
       "      <th></th>\n",
       "      <th></th>\n",
       "      <th></th>\n",
       "    </tr>\n",
       "  </thead>\n",
       "  <tbody>\n",
       "    <tr>\n",
       "      <th>5642903</th>\n",
       "      <td>2.987250e+13</td>\n",
       "      <td>F</td>\n",
       "      <td>2016-04-29T18:38:08Z</td>\n",
       "      <td>2016-04-29T00:00:00Z</td>\n",
       "      <td>62</td>\n",
       "      <td>JARDIM DA PENHA</td>\n",
       "      <td>0</td>\n",
       "      <td>1</td>\n",
       "      <td>0</td>\n",
       "      <td>0</td>\n",
       "      <td>No</td>\n",
       "    </tr>\n",
       "    <tr>\n",
       "      <th>5642503</th>\n",
       "      <td>5.589978e+14</td>\n",
       "      <td>M</td>\n",
       "      <td>2016-04-29T16:08:27Z</td>\n",
       "      <td>2016-04-29T00:00:00Z</td>\n",
       "      <td>56</td>\n",
       "      <td>JARDIM DA PENHA</td>\n",
       "      <td>0</td>\n",
       "      <td>0</td>\n",
       "      <td>0</td>\n",
       "      <td>0</td>\n",
       "      <td>No</td>\n",
       "    </tr>\n",
       "    <tr>\n",
       "      <th>5642549</th>\n",
       "      <td>4.262962e+12</td>\n",
       "      <td>F</td>\n",
       "      <td>2016-04-29T16:19:04Z</td>\n",
       "      <td>2016-04-29T00:00:00Z</td>\n",
       "      <td>62</td>\n",
       "      <td>MATA DA PRAIA</td>\n",
       "      <td>0</td>\n",
       "      <td>0</td>\n",
       "      <td>0</td>\n",
       "      <td>0</td>\n",
       "      <td>No</td>\n",
       "    </tr>\n",
       "    <tr>\n",
       "      <th>5642828</th>\n",
       "      <td>8.679512e+11</td>\n",
       "      <td>F</td>\n",
       "      <td>2016-04-29T17:29:31Z</td>\n",
       "      <td>2016-04-29T00:00:00Z</td>\n",
       "      <td>8</td>\n",
       "      <td>PONTAL DE CAMBURI</td>\n",
       "      <td>0</td>\n",
       "      <td>0</td>\n",
       "      <td>0</td>\n",
       "      <td>0</td>\n",
       "      <td>No</td>\n",
       "    </tr>\n",
       "    <tr>\n",
       "      <th>5642494</th>\n",
       "      <td>8.841186e+12</td>\n",
       "      <td>F</td>\n",
       "      <td>2016-04-29T16:07:23Z</td>\n",
       "      <td>2016-04-29T00:00:00Z</td>\n",
       "      <td>56</td>\n",
       "      <td>JARDIM DA PENHA</td>\n",
       "      <td>0</td>\n",
       "      <td>1</td>\n",
       "      <td>1</td>\n",
       "      <td>0</td>\n",
       "      <td>No</td>\n",
       "    </tr>\n",
       "    <tr>\n",
       "      <th>5626772</th>\n",
       "      <td>9.598513e+13</td>\n",
       "      <td>F</td>\n",
       "      <td>2016-04-27T08:36:51Z</td>\n",
       "      <td>2016-04-29T00:00:00Z</td>\n",
       "      <td>76</td>\n",
       "      <td>REPÚBLICA</td>\n",
       "      <td>0</td>\n",
       "      <td>1</td>\n",
       "      <td>0</td>\n",
       "      <td>0</td>\n",
       "      <td>No</td>\n",
       "    </tr>\n",
       "    <tr>\n",
       "      <th>5630279</th>\n",
       "      <td>7.336882e+14</td>\n",
       "      <td>F</td>\n",
       "      <td>2016-04-27T15:05:12Z</td>\n",
       "      <td>2016-04-29T00:00:00Z</td>\n",
       "      <td>23</td>\n",
       "      <td>GOIABEIRAS</td>\n",
       "      <td>0</td>\n",
       "      <td>0</td>\n",
       "      <td>0</td>\n",
       "      <td>0</td>\n",
       "      <td>Yes</td>\n",
       "    </tr>\n",
       "    <tr>\n",
       "      <th>5630575</th>\n",
       "      <td>3.449833e+12</td>\n",
       "      <td>F</td>\n",
       "      <td>2016-04-27T15:39:58Z</td>\n",
       "      <td>2016-04-29T00:00:00Z</td>\n",
       "      <td>39</td>\n",
       "      <td>GOIABEIRAS</td>\n",
       "      <td>0</td>\n",
       "      <td>0</td>\n",
       "      <td>0</td>\n",
       "      <td>0</td>\n",
       "      <td>Yes</td>\n",
       "    </tr>\n",
       "    <tr>\n",
       "      <th>5638447</th>\n",
       "      <td>5.639473e+13</td>\n",
       "      <td>F</td>\n",
       "      <td>2016-04-29T08:02:16Z</td>\n",
       "      <td>2016-04-29T00:00:00Z</td>\n",
       "      <td>21</td>\n",
       "      <td>ANDORINHAS</td>\n",
       "      <td>0</td>\n",
       "      <td>0</td>\n",
       "      <td>0</td>\n",
       "      <td>0</td>\n",
       "      <td>No</td>\n",
       "    </tr>\n",
       "    <tr>\n",
       "      <th>5629123</th>\n",
       "      <td>7.812456e+13</td>\n",
       "      <td>F</td>\n",
       "      <td>2016-04-27T12:48:25Z</td>\n",
       "      <td>2016-04-29T00:00:00Z</td>\n",
       "      <td>19</td>\n",
       "      <td>CONQUISTA</td>\n",
       "      <td>0</td>\n",
       "      <td>0</td>\n",
       "      <td>0</td>\n",
       "      <td>0</td>\n",
       "      <td>No</td>\n",
       "    </tr>\n",
       "    <tr>\n",
       "      <th>5630213</th>\n",
       "      <td>7.345362e+14</td>\n",
       "      <td>F</td>\n",
       "      <td>2016-04-27T14:58:11Z</td>\n",
       "      <td>2016-04-29T00:00:00Z</td>\n",
       "      <td>30</td>\n",
       "      <td>NOVA PALESTINA</td>\n",
       "      <td>0</td>\n",
       "      <td>0</td>\n",
       "      <td>0</td>\n",
       "      <td>0</td>\n",
       "      <td>No</td>\n",
       "    </tr>\n",
       "    <tr>\n",
       "      <th>5620163</th>\n",
       "      <td>7.542951e+12</td>\n",
       "      <td>M</td>\n",
       "      <td>2016-04-26T08:44:12Z</td>\n",
       "      <td>2016-04-29T00:00:00Z</td>\n",
       "      <td>29</td>\n",
       "      <td>NOVA PALESTINA</td>\n",
       "      <td>0</td>\n",
       "      <td>0</td>\n",
       "      <td>0</td>\n",
       "      <td>0</td>\n",
       "      <td>Yes</td>\n",
       "    </tr>\n",
       "    <tr>\n",
       "      <th>5634718</th>\n",
       "      <td>5.666548e+14</td>\n",
       "      <td>F</td>\n",
       "      <td>2016-04-28T11:33:51Z</td>\n",
       "      <td>2016-04-29T00:00:00Z</td>\n",
       "      <td>22</td>\n",
       "      <td>NOVA PALESTINA</td>\n",
       "      <td>1</td>\n",
       "      <td>0</td>\n",
       "      <td>0</td>\n",
       "      <td>0</td>\n",
       "      <td>No</td>\n",
       "    </tr>\n",
       "    <tr>\n",
       "      <th>5636249</th>\n",
       "      <td>9.113946e+14</td>\n",
       "      <td>M</td>\n",
       "      <td>2016-04-28T14:52:07Z</td>\n",
       "      <td>2016-04-29T00:00:00Z</td>\n",
       "      <td>28</td>\n",
       "      <td>NOVA PALESTINA</td>\n",
       "      <td>0</td>\n",
       "      <td>0</td>\n",
       "      <td>0</td>\n",
       "      <td>0</td>\n",
       "      <td>No</td>\n",
       "    </tr>\n",
       "    <tr>\n",
       "      <th>5633951</th>\n",
       "      <td>9.988472e+13</td>\n",
       "      <td>F</td>\n",
       "      <td>2016-04-28T10:06:24Z</td>\n",
       "      <td>2016-04-29T00:00:00Z</td>\n",
       "      <td>54</td>\n",
       "      <td>NOVA PALESTINA</td>\n",
       "      <td>0</td>\n",
       "      <td>0</td>\n",
       "      <td>0</td>\n",
       "      <td>0</td>\n",
       "      <td>No</td>\n",
       "    </tr>\n",
       "    <tr>\n",
       "      <th>5620206</th>\n",
       "      <td>9.994839e+10</td>\n",
       "      <td>F</td>\n",
       "      <td>2016-04-26T08:47:27Z</td>\n",
       "      <td>2016-04-29T00:00:00Z</td>\n",
       "      <td>15</td>\n",
       "      <td>NOVA PALESTINA</td>\n",
       "      <td>0</td>\n",
       "      <td>0</td>\n",
       "      <td>0</td>\n",
       "      <td>0</td>\n",
       "      <td>No</td>\n",
       "    </tr>\n",
       "    <tr>\n",
       "      <th>5633121</th>\n",
       "      <td>8.457439e+13</td>\n",
       "      <td>M</td>\n",
       "      <td>2016-04-28T08:51:47Z</td>\n",
       "      <td>2016-04-29T00:00:00Z</td>\n",
       "      <td>50</td>\n",
       "      <td>NOVA PALESTINA</td>\n",
       "      <td>0</td>\n",
       "      <td>0</td>\n",
       "      <td>0</td>\n",
       "      <td>0</td>\n",
       "      <td>No</td>\n",
       "    </tr>\n",
       "    <tr>\n",
       "      <th>5633460</th>\n",
       "      <td>1.479497e+13</td>\n",
       "      <td>F</td>\n",
       "      <td>2016-04-28T09:28:57Z</td>\n",
       "      <td>2016-04-29T00:00:00Z</td>\n",
       "      <td>40</td>\n",
       "      <td>CONQUISTA</td>\n",
       "      <td>1</td>\n",
       "      <td>0</td>\n",
       "      <td>0</td>\n",
       "      <td>0</td>\n",
       "      <td>Yes</td>\n",
       "    </tr>\n",
       "    <tr>\n",
       "      <th>5621836</th>\n",
       "      <td>1.713538e+13</td>\n",
       "      <td>F</td>\n",
       "      <td>2016-04-26T10:54:18Z</td>\n",
       "      <td>2016-04-29T00:00:00Z</td>\n",
       "      <td>30</td>\n",
       "      <td>NOVA PALESTINA</td>\n",
       "      <td>1</td>\n",
       "      <td>0</td>\n",
       "      <td>0</td>\n",
       "      <td>0</td>\n",
       "      <td>No</td>\n",
       "    </tr>\n",
       "    <tr>\n",
       "      <th>5640433</th>\n",
       "      <td>7.223289e+12</td>\n",
       "      <td>F</td>\n",
       "      <td>2016-04-29T10:43:14Z</td>\n",
       "      <td>2016-04-29T00:00:00Z</td>\n",
       "      <td>46</td>\n",
       "      <td>DA PENHA</td>\n",
       "      <td>0</td>\n",
       "      <td>0</td>\n",
       "      <td>0</td>\n",
       "      <td>0</td>\n",
       "      <td>No</td>\n",
       "    </tr>\n",
       "    <tr>\n",
       "      <th>5626083</th>\n",
       "      <td>6.222575e+14</td>\n",
       "      <td>F</td>\n",
       "      <td>2016-04-27T07:51:14Z</td>\n",
       "      <td>2016-04-29T00:00:00Z</td>\n",
       "      <td>30</td>\n",
       "      <td>NOVA PALESTINA</td>\n",
       "      <td>0</td>\n",
       "      <td>0</td>\n",
       "      <td>0</td>\n",
       "      <td>0</td>\n",
       "      <td>Yes</td>\n",
       "    </tr>\n",
       "    <tr>\n",
       "      <th>5628338</th>\n",
       "      <td>1.215484e+13</td>\n",
       "      <td>F</td>\n",
       "      <td>2016-04-27T10:50:45Z</td>\n",
       "      <td>2016-04-29T00:00:00Z</td>\n",
       "      <td>4</td>\n",
       "      <td>CONQUISTA</td>\n",
       "      <td>0</td>\n",
       "      <td>0</td>\n",
       "      <td>0</td>\n",
       "      <td>0</td>\n",
       "      <td>Yes</td>\n",
       "    </tr>\n",
       "    <tr>\n",
       "      <th>5616091</th>\n",
       "      <td>8.632298e+14</td>\n",
       "      <td>M</td>\n",
       "      <td>2016-04-25T13:29:16Z</td>\n",
       "      <td>2016-04-29T00:00:00Z</td>\n",
       "      <td>13</td>\n",
       "      <td>CONQUISTA</td>\n",
       "      <td>0</td>\n",
       "      <td>0</td>\n",
       "      <td>0</td>\n",
       "      <td>0</td>\n",
       "      <td>Yes</td>\n",
       "    </tr>\n",
       "    <tr>\n",
       "      <th>5634142</th>\n",
       "      <td>2.137540e+14</td>\n",
       "      <td>F</td>\n",
       "      <td>2016-04-28T10:27:05Z</td>\n",
       "      <td>2016-04-29T00:00:00Z</td>\n",
       "      <td>46</td>\n",
       "      <td>CONQUISTA</td>\n",
       "      <td>0</td>\n",
       "      <td>0</td>\n",
       "      <td>0</td>\n",
       "      <td>0</td>\n",
       "      <td>No</td>\n",
       "    </tr>\n",
       "    <tr>\n",
       "      <th>5641780</th>\n",
       "      <td>8.734858e+12</td>\n",
       "      <td>F</td>\n",
       "      <td>2016-04-29T14:19:19Z</td>\n",
       "      <td>2016-04-29T00:00:00Z</td>\n",
       "      <td>65</td>\n",
       "      <td>TABUAZEIRO</td>\n",
       "      <td>0</td>\n",
       "      <td>0</td>\n",
       "      <td>0</td>\n",
       "      <td>0</td>\n",
       "      <td>No</td>\n",
       "    </tr>\n",
       "    <tr>\n",
       "      <th>5624020</th>\n",
       "      <td>5.819370e+12</td>\n",
       "      <td>M</td>\n",
       "      <td>2016-04-26T15:04:17Z</td>\n",
       "      <td>2016-04-29T00:00:00Z</td>\n",
       "      <td>46</td>\n",
       "      <td>CONQUISTA</td>\n",
       "      <td>0</td>\n",
       "      <td>1</td>\n",
       "      <td>0</td>\n",
       "      <td>0</td>\n",
       "      <td>No</td>\n",
       "    </tr>\n",
       "    <tr>\n",
       "      <th>5641781</th>\n",
       "      <td>2.578785e+10</td>\n",
       "      <td>F</td>\n",
       "      <td>2016-04-29T14:19:42Z</td>\n",
       "      <td>2016-04-29T00:00:00Z</td>\n",
       "      <td>45</td>\n",
       "      <td>BENTO FERREIRA</td>\n",
       "      <td>0</td>\n",
       "      <td>1</td>\n",
       "      <td>0</td>\n",
       "      <td>0</td>\n",
       "      <td>No</td>\n",
       "    </tr>\n",
       "    <tr>\n",
       "      <th>5628345</th>\n",
       "      <td>1.215484e+13</td>\n",
       "      <td>F</td>\n",
       "      <td>2016-04-27T10:51:45Z</td>\n",
       "      <td>2016-04-29T00:00:00Z</td>\n",
       "      <td>4</td>\n",
       "      <td>CONQUISTA</td>\n",
       "      <td>0</td>\n",
       "      <td>0</td>\n",
       "      <td>0</td>\n",
       "      <td>0</td>\n",
       "      <td>No</td>\n",
       "    </tr>\n",
       "    <tr>\n",
       "      <th>5642400</th>\n",
       "      <td>5.926172e+12</td>\n",
       "      <td>M</td>\n",
       "      <td>2016-04-29T15:48:02Z</td>\n",
       "      <td>2016-04-29T00:00:00Z</td>\n",
       "      <td>51</td>\n",
       "      <td>SÃO PEDRO</td>\n",
       "      <td>0</td>\n",
       "      <td>0</td>\n",
       "      <td>0</td>\n",
       "      <td>0</td>\n",
       "      <td>No</td>\n",
       "    </tr>\n",
       "    <tr>\n",
       "      <th>5642186</th>\n",
       "      <td>1.225776e+12</td>\n",
       "      <td>F</td>\n",
       "      <td>2016-04-29T15:16:29Z</td>\n",
       "      <td>2016-04-29T00:00:00Z</td>\n",
       "      <td>32</td>\n",
       "      <td>SANTA MARTHA</td>\n",
       "      <td>0</td>\n",
       "      <td>0</td>\n",
       "      <td>0</td>\n",
       "      <td>0</td>\n",
       "      <td>No</td>\n",
       "    </tr>\n",
       "    <tr>\n",
       "      <th>...</th>\n",
       "      <td>...</td>\n",
       "      <td>...</td>\n",
       "      <td>...</td>\n",
       "      <td>...</td>\n",
       "      <td>...</td>\n",
       "      <td>...</td>\n",
       "      <td>...</td>\n",
       "      <td>...</td>\n",
       "      <td>...</td>\n",
       "      <td>...</td>\n",
       "      <td>...</td>\n",
       "    </tr>\n",
       "    <tr>\n",
       "      <th>5757745</th>\n",
       "      <td>7.935892e+14</td>\n",
       "      <td>M</td>\n",
       "      <td>2016-06-01T09:46:33Z</td>\n",
       "      <td>2016-06-01T00:00:00Z</td>\n",
       "      <td>76</td>\n",
       "      <td>MARIA ORTIZ</td>\n",
       "      <td>0</td>\n",
       "      <td>0</td>\n",
       "      <td>0</td>\n",
       "      <td>0</td>\n",
       "      <td>No</td>\n",
       "    </tr>\n",
       "    <tr>\n",
       "      <th>5787655</th>\n",
       "      <td>9.433654e+13</td>\n",
       "      <td>F</td>\n",
       "      <td>2016-06-08T10:21:14Z</td>\n",
       "      <td>2016-06-08T00:00:00Z</td>\n",
       "      <td>59</td>\n",
       "      <td>MARIA ORTIZ</td>\n",
       "      <td>0</td>\n",
       "      <td>0</td>\n",
       "      <td>0</td>\n",
       "      <td>0</td>\n",
       "      <td>No</td>\n",
       "    </tr>\n",
       "    <tr>\n",
       "      <th>5757697</th>\n",
       "      <td>8.219692e+14</td>\n",
       "      <td>F</td>\n",
       "      <td>2016-06-01T09:42:56Z</td>\n",
       "      <td>2016-06-01T00:00:00Z</td>\n",
       "      <td>66</td>\n",
       "      <td>MARIA ORTIZ</td>\n",
       "      <td>0</td>\n",
       "      <td>1</td>\n",
       "      <td>1</td>\n",
       "      <td>0</td>\n",
       "      <td>No</td>\n",
       "    </tr>\n",
       "    <tr>\n",
       "      <th>5787233</th>\n",
       "      <td>4.434384e+14</td>\n",
       "      <td>F</td>\n",
       "      <td>2016-06-08T09:35:13Z</td>\n",
       "      <td>2016-06-08T00:00:00Z</td>\n",
       "      <td>59</td>\n",
       "      <td>MARIA ORTIZ</td>\n",
       "      <td>0</td>\n",
       "      <td>0</td>\n",
       "      <td>0</td>\n",
       "      <td>0</td>\n",
       "      <td>No</td>\n",
       "    </tr>\n",
       "    <tr>\n",
       "      <th>5758133</th>\n",
       "      <td>4.544252e+11</td>\n",
       "      <td>M</td>\n",
       "      <td>2016-06-01T10:19:12Z</td>\n",
       "      <td>2016-06-01T00:00:00Z</td>\n",
       "      <td>44</td>\n",
       "      <td>MARIA ORTIZ</td>\n",
       "      <td>0</td>\n",
       "      <td>0</td>\n",
       "      <td>0</td>\n",
       "      <td>0</td>\n",
       "      <td>No</td>\n",
       "    </tr>\n",
       "    <tr>\n",
       "      <th>5787937</th>\n",
       "      <td>7.316229e+14</td>\n",
       "      <td>F</td>\n",
       "      <td>2016-06-08T10:50:42Z</td>\n",
       "      <td>2016-06-08T00:00:00Z</td>\n",
       "      <td>22</td>\n",
       "      <td>GOIABEIRAS</td>\n",
       "      <td>0</td>\n",
       "      <td>0</td>\n",
       "      <td>0</td>\n",
       "      <td>0</td>\n",
       "      <td>No</td>\n",
       "    </tr>\n",
       "    <tr>\n",
       "      <th>5759473</th>\n",
       "      <td>2.362182e+13</td>\n",
       "      <td>F</td>\n",
       "      <td>2016-06-01T13:00:36Z</td>\n",
       "      <td>2016-06-01T00:00:00Z</td>\n",
       "      <td>64</td>\n",
       "      <td>SOLON BORGES</td>\n",
       "      <td>0</td>\n",
       "      <td>0</td>\n",
       "      <td>0</td>\n",
       "      <td>0</td>\n",
       "      <td>No</td>\n",
       "    </tr>\n",
       "    <tr>\n",
       "      <th>5788052</th>\n",
       "      <td>9.947983e+12</td>\n",
       "      <td>F</td>\n",
       "      <td>2016-06-08T11:06:21Z</td>\n",
       "      <td>2016-06-08T00:00:00Z</td>\n",
       "      <td>4</td>\n",
       "      <td>MARIA ORTIZ</td>\n",
       "      <td>0</td>\n",
       "      <td>0</td>\n",
       "      <td>0</td>\n",
       "      <td>0</td>\n",
       "      <td>No</td>\n",
       "    </tr>\n",
       "    <tr>\n",
       "      <th>5758455</th>\n",
       "      <td>5.667344e+13</td>\n",
       "      <td>F</td>\n",
       "      <td>2016-06-01T10:45:50Z</td>\n",
       "      <td>2016-06-01T00:00:00Z</td>\n",
       "      <td>55</td>\n",
       "      <td>MARIA ORTIZ</td>\n",
       "      <td>0</td>\n",
       "      <td>0</td>\n",
       "      <td>0</td>\n",
       "      <td>0</td>\n",
       "      <td>No</td>\n",
       "    </tr>\n",
       "    <tr>\n",
       "      <th>5758779</th>\n",
       "      <td>8.973883e+11</td>\n",
       "      <td>M</td>\n",
       "      <td>2016-06-01T11:09:20Z</td>\n",
       "      <td>2016-06-01T00:00:00Z</td>\n",
       "      <td>5</td>\n",
       "      <td>MARIA ORTIZ</td>\n",
       "      <td>0</td>\n",
       "      <td>0</td>\n",
       "      <td>0</td>\n",
       "      <td>0</td>\n",
       "      <td>No</td>\n",
       "    </tr>\n",
       "    <tr>\n",
       "      <th>5786918</th>\n",
       "      <td>4.769462e+14</td>\n",
       "      <td>F</td>\n",
       "      <td>2016-06-08T09:04:18Z</td>\n",
       "      <td>2016-06-08T00:00:00Z</td>\n",
       "      <td>0</td>\n",
       "      <td>MARIA ORTIZ</td>\n",
       "      <td>0</td>\n",
       "      <td>0</td>\n",
       "      <td>0</td>\n",
       "      <td>0</td>\n",
       "      <td>No</td>\n",
       "    </tr>\n",
       "    <tr>\n",
       "      <th>5757656</th>\n",
       "      <td>9.433654e+13</td>\n",
       "      <td>F</td>\n",
       "      <td>2016-06-01T09:41:00Z</td>\n",
       "      <td>2016-06-01T00:00:00Z</td>\n",
       "      <td>59</td>\n",
       "      <td>MARIA ORTIZ</td>\n",
       "      <td>0</td>\n",
       "      <td>0</td>\n",
       "      <td>0</td>\n",
       "      <td>0</td>\n",
       "      <td>No</td>\n",
       "    </tr>\n",
       "    <tr>\n",
       "      <th>5786750</th>\n",
       "      <td>4.952968e+14</td>\n",
       "      <td>M</td>\n",
       "      <td>2016-06-08T08:50:51Z</td>\n",
       "      <td>2016-06-08T00:00:00Z</td>\n",
       "      <td>33</td>\n",
       "      <td>MARIA ORTIZ</td>\n",
       "      <td>0</td>\n",
       "      <td>0</td>\n",
       "      <td>0</td>\n",
       "      <td>0</td>\n",
       "      <td>No</td>\n",
       "    </tr>\n",
       "    <tr>\n",
       "      <th>5757587</th>\n",
       "      <td>2.362182e+13</td>\n",
       "      <td>F</td>\n",
       "      <td>2016-06-01T09:35:48Z</td>\n",
       "      <td>2016-06-01T00:00:00Z</td>\n",
       "      <td>64</td>\n",
       "      <td>SOLON BORGES</td>\n",
       "      <td>0</td>\n",
       "      <td>0</td>\n",
       "      <td>0</td>\n",
       "      <td>0</td>\n",
       "      <td>No</td>\n",
       "    </tr>\n",
       "    <tr>\n",
       "      <th>5786742</th>\n",
       "      <td>8.235996e+11</td>\n",
       "      <td>F</td>\n",
       "      <td>2016-06-08T08:50:20Z</td>\n",
       "      <td>2016-06-08T00:00:00Z</td>\n",
       "      <td>14</td>\n",
       "      <td>MARIA ORTIZ</td>\n",
       "      <td>0</td>\n",
       "      <td>0</td>\n",
       "      <td>0</td>\n",
       "      <td>0</td>\n",
       "      <td>No</td>\n",
       "    </tr>\n",
       "    <tr>\n",
       "      <th>5786368</th>\n",
       "      <td>9.876246e+13</td>\n",
       "      <td>F</td>\n",
       "      <td>2016-06-08T08:20:01Z</td>\n",
       "      <td>2016-06-08T00:00:00Z</td>\n",
       "      <td>41</td>\n",
       "      <td>MARIA ORTIZ</td>\n",
       "      <td>0</td>\n",
       "      <td>0</td>\n",
       "      <td>0</td>\n",
       "      <td>0</td>\n",
       "      <td>No</td>\n",
       "    </tr>\n",
       "    <tr>\n",
       "      <th>5785964</th>\n",
       "      <td>8.674778e+13</td>\n",
       "      <td>M</td>\n",
       "      <td>2016-06-08T07:52:55Z</td>\n",
       "      <td>2016-06-08T00:00:00Z</td>\n",
       "      <td>2</td>\n",
       "      <td>ANTÔNIO HONÓRIO</td>\n",
       "      <td>0</td>\n",
       "      <td>0</td>\n",
       "      <td>0</td>\n",
       "      <td>0</td>\n",
       "      <td>No</td>\n",
       "    </tr>\n",
       "    <tr>\n",
       "      <th>5786567</th>\n",
       "      <td>2.695685e+12</td>\n",
       "      <td>F</td>\n",
       "      <td>2016-06-08T08:35:31Z</td>\n",
       "      <td>2016-06-08T00:00:00Z</td>\n",
       "      <td>58</td>\n",
       "      <td>MARIA ORTIZ</td>\n",
       "      <td>0</td>\n",
       "      <td>0</td>\n",
       "      <td>0</td>\n",
       "      <td>0</td>\n",
       "      <td>No</td>\n",
       "    </tr>\n",
       "    <tr>\n",
       "      <th>5778621</th>\n",
       "      <td>6.456342e+14</td>\n",
       "      <td>M</td>\n",
       "      <td>2016-06-06T15:58:05Z</td>\n",
       "      <td>2016-06-08T00:00:00Z</td>\n",
       "      <td>33</td>\n",
       "      <td>MARIA ORTIZ</td>\n",
       "      <td>0</td>\n",
       "      <td>1</td>\n",
       "      <td>0</td>\n",
       "      <td>0</td>\n",
       "      <td>Yes</td>\n",
       "    </tr>\n",
       "    <tr>\n",
       "      <th>5780205</th>\n",
       "      <td>6.923772e+13</td>\n",
       "      <td>F</td>\n",
       "      <td>2016-06-07T07:45:16Z</td>\n",
       "      <td>2016-06-08T00:00:00Z</td>\n",
       "      <td>37</td>\n",
       "      <td>MARIA ORTIZ</td>\n",
       "      <td>0</td>\n",
       "      <td>0</td>\n",
       "      <td>0</td>\n",
       "      <td>0</td>\n",
       "      <td>Yes</td>\n",
       "    </tr>\n",
       "    <tr>\n",
       "      <th>5780122</th>\n",
       "      <td>5.574942e+12</td>\n",
       "      <td>F</td>\n",
       "      <td>2016-06-07T07:38:34Z</td>\n",
       "      <td>2016-06-07T00:00:00Z</td>\n",
       "      <td>19</td>\n",
       "      <td>MARIA ORTIZ</td>\n",
       "      <td>0</td>\n",
       "      <td>0</td>\n",
       "      <td>0</td>\n",
       "      <td>0</td>\n",
       "      <td>No</td>\n",
       "    </tr>\n",
       "    <tr>\n",
       "      <th>5630375</th>\n",
       "      <td>7.263315e+13</td>\n",
       "      <td>F</td>\n",
       "      <td>2016-04-27T15:15:06Z</td>\n",
       "      <td>2016-06-07T00:00:00Z</td>\n",
       "      <td>50</td>\n",
       "      <td>MARIA ORTIZ</td>\n",
       "      <td>0</td>\n",
       "      <td>0</td>\n",
       "      <td>0</td>\n",
       "      <td>0</td>\n",
       "      <td>No</td>\n",
       "    </tr>\n",
       "    <tr>\n",
       "      <th>5630447</th>\n",
       "      <td>6.542388e+13</td>\n",
       "      <td>F</td>\n",
       "      <td>2016-04-27T15:23:14Z</td>\n",
       "      <td>2016-06-07T00:00:00Z</td>\n",
       "      <td>22</td>\n",
       "      <td>MARIA ORTIZ</td>\n",
       "      <td>0</td>\n",
       "      <td>0</td>\n",
       "      <td>0</td>\n",
       "      <td>0</td>\n",
       "      <td>No</td>\n",
       "    </tr>\n",
       "    <tr>\n",
       "      <th>5650534</th>\n",
       "      <td>9.969977e+14</td>\n",
       "      <td>F</td>\n",
       "      <td>2016-05-03T07:51:47Z</td>\n",
       "      <td>2016-06-07T00:00:00Z</td>\n",
       "      <td>42</td>\n",
       "      <td>MARIA ORTIZ</td>\n",
       "      <td>0</td>\n",
       "      <td>0</td>\n",
       "      <td>0</td>\n",
       "      <td>0</td>\n",
       "      <td>No</td>\n",
       "    </tr>\n",
       "    <tr>\n",
       "      <th>5651072</th>\n",
       "      <td>3.635534e+13</td>\n",
       "      <td>F</td>\n",
       "      <td>2016-05-03T08:23:40Z</td>\n",
       "      <td>2016-06-07T00:00:00Z</td>\n",
       "      <td>53</td>\n",
       "      <td>MARIA ORTIZ</td>\n",
       "      <td>0</td>\n",
       "      <td>0</td>\n",
       "      <td>0</td>\n",
       "      <td>0</td>\n",
       "      <td>No</td>\n",
       "    </tr>\n",
       "    <tr>\n",
       "      <th>5651768</th>\n",
       "      <td>2.572134e+12</td>\n",
       "      <td>F</td>\n",
       "      <td>2016-05-03T09:15:35Z</td>\n",
       "      <td>2016-06-07T00:00:00Z</td>\n",
       "      <td>56</td>\n",
       "      <td>MARIA ORTIZ</td>\n",
       "      <td>0</td>\n",
       "      <td>0</td>\n",
       "      <td>0</td>\n",
       "      <td>0</td>\n",
       "      <td>No</td>\n",
       "    </tr>\n",
       "    <tr>\n",
       "      <th>5650093</th>\n",
       "      <td>3.596266e+12</td>\n",
       "      <td>F</td>\n",
       "      <td>2016-05-03T07:27:33Z</td>\n",
       "      <td>2016-06-07T00:00:00Z</td>\n",
       "      <td>51</td>\n",
       "      <td>MARIA ORTIZ</td>\n",
       "      <td>0</td>\n",
       "      <td>0</td>\n",
       "      <td>0</td>\n",
       "      <td>0</td>\n",
       "      <td>No</td>\n",
       "    </tr>\n",
       "    <tr>\n",
       "      <th>5630692</th>\n",
       "      <td>1.557663e+13</td>\n",
       "      <td>F</td>\n",
       "      <td>2016-04-27T16:03:52Z</td>\n",
       "      <td>2016-06-07T00:00:00Z</td>\n",
       "      <td>21</td>\n",
       "      <td>MARIA ORTIZ</td>\n",
       "      <td>0</td>\n",
       "      <td>0</td>\n",
       "      <td>0</td>\n",
       "      <td>0</td>\n",
       "      <td>No</td>\n",
       "    </tr>\n",
       "    <tr>\n",
       "      <th>5630323</th>\n",
       "      <td>9.213493e+13</td>\n",
       "      <td>F</td>\n",
       "      <td>2016-04-27T15:09:23Z</td>\n",
       "      <td>2016-06-07T00:00:00Z</td>\n",
       "      <td>38</td>\n",
       "      <td>MARIA ORTIZ</td>\n",
       "      <td>0</td>\n",
       "      <td>0</td>\n",
       "      <td>0</td>\n",
       "      <td>0</td>\n",
       "      <td>No</td>\n",
       "    </tr>\n",
       "    <tr>\n",
       "      <th>5629448</th>\n",
       "      <td>3.775115e+14</td>\n",
       "      <td>F</td>\n",
       "      <td>2016-04-27T13:30:56Z</td>\n",
       "      <td>2016-06-07T00:00:00Z</td>\n",
       "      <td>54</td>\n",
       "      <td>MARIA ORTIZ</td>\n",
       "      <td>0</td>\n",
       "      <td>0</td>\n",
       "      <td>0</td>\n",
       "      <td>0</td>\n",
       "      <td>No</td>\n",
       "    </tr>\n",
       "  </tbody>\n",
       "</table>\n",
       "<p>110527 rows × 11 columns</p>\n",
       "</div>"
      ],
      "text/plain": [
       "                  PatientId Gender          ScheduledDay  \\\n",
       "AppointmentID                                              \n",
       "5642903        2.987250e+13      F  2016-04-29T18:38:08Z   \n",
       "5642503        5.589978e+14      M  2016-04-29T16:08:27Z   \n",
       "5642549        4.262962e+12      F  2016-04-29T16:19:04Z   \n",
       "5642828        8.679512e+11      F  2016-04-29T17:29:31Z   \n",
       "5642494        8.841186e+12      F  2016-04-29T16:07:23Z   \n",
       "5626772        9.598513e+13      F  2016-04-27T08:36:51Z   \n",
       "5630279        7.336882e+14      F  2016-04-27T15:05:12Z   \n",
       "5630575        3.449833e+12      F  2016-04-27T15:39:58Z   \n",
       "5638447        5.639473e+13      F  2016-04-29T08:02:16Z   \n",
       "5629123        7.812456e+13      F  2016-04-27T12:48:25Z   \n",
       "5630213        7.345362e+14      F  2016-04-27T14:58:11Z   \n",
       "5620163        7.542951e+12      M  2016-04-26T08:44:12Z   \n",
       "5634718        5.666548e+14      F  2016-04-28T11:33:51Z   \n",
       "5636249        9.113946e+14      M  2016-04-28T14:52:07Z   \n",
       "5633951        9.988472e+13      F  2016-04-28T10:06:24Z   \n",
       "5620206        9.994839e+10      F  2016-04-26T08:47:27Z   \n",
       "5633121        8.457439e+13      M  2016-04-28T08:51:47Z   \n",
       "5633460        1.479497e+13      F  2016-04-28T09:28:57Z   \n",
       "5621836        1.713538e+13      F  2016-04-26T10:54:18Z   \n",
       "5640433        7.223289e+12      F  2016-04-29T10:43:14Z   \n",
       "5626083        6.222575e+14      F  2016-04-27T07:51:14Z   \n",
       "5628338        1.215484e+13      F  2016-04-27T10:50:45Z   \n",
       "5616091        8.632298e+14      M  2016-04-25T13:29:16Z   \n",
       "5634142        2.137540e+14      F  2016-04-28T10:27:05Z   \n",
       "5641780        8.734858e+12      F  2016-04-29T14:19:19Z   \n",
       "5624020        5.819370e+12      M  2016-04-26T15:04:17Z   \n",
       "5641781        2.578785e+10      F  2016-04-29T14:19:42Z   \n",
       "5628345        1.215484e+13      F  2016-04-27T10:51:45Z   \n",
       "5642400        5.926172e+12      M  2016-04-29T15:48:02Z   \n",
       "5642186        1.225776e+12      F  2016-04-29T15:16:29Z   \n",
       "...                     ...    ...                   ...   \n",
       "5757745        7.935892e+14      M  2016-06-01T09:46:33Z   \n",
       "5787655        9.433654e+13      F  2016-06-08T10:21:14Z   \n",
       "5757697        8.219692e+14      F  2016-06-01T09:42:56Z   \n",
       "5787233        4.434384e+14      F  2016-06-08T09:35:13Z   \n",
       "5758133        4.544252e+11      M  2016-06-01T10:19:12Z   \n",
       "5787937        7.316229e+14      F  2016-06-08T10:50:42Z   \n",
       "5759473        2.362182e+13      F  2016-06-01T13:00:36Z   \n",
       "5788052        9.947983e+12      F  2016-06-08T11:06:21Z   \n",
       "5758455        5.667344e+13      F  2016-06-01T10:45:50Z   \n",
       "5758779        8.973883e+11      M  2016-06-01T11:09:20Z   \n",
       "5786918        4.769462e+14      F  2016-06-08T09:04:18Z   \n",
       "5757656        9.433654e+13      F  2016-06-01T09:41:00Z   \n",
       "5786750        4.952968e+14      M  2016-06-08T08:50:51Z   \n",
       "5757587        2.362182e+13      F  2016-06-01T09:35:48Z   \n",
       "5786742        8.235996e+11      F  2016-06-08T08:50:20Z   \n",
       "5786368        9.876246e+13      F  2016-06-08T08:20:01Z   \n",
       "5785964        8.674778e+13      M  2016-06-08T07:52:55Z   \n",
       "5786567        2.695685e+12      F  2016-06-08T08:35:31Z   \n",
       "5778621        6.456342e+14      M  2016-06-06T15:58:05Z   \n",
       "5780205        6.923772e+13      F  2016-06-07T07:45:16Z   \n",
       "5780122        5.574942e+12      F  2016-06-07T07:38:34Z   \n",
       "5630375        7.263315e+13      F  2016-04-27T15:15:06Z   \n",
       "5630447        6.542388e+13      F  2016-04-27T15:23:14Z   \n",
       "5650534        9.969977e+14      F  2016-05-03T07:51:47Z   \n",
       "5651072        3.635534e+13      F  2016-05-03T08:23:40Z   \n",
       "5651768        2.572134e+12      F  2016-05-03T09:15:35Z   \n",
       "5650093        3.596266e+12      F  2016-05-03T07:27:33Z   \n",
       "5630692        1.557663e+13      F  2016-04-27T16:03:52Z   \n",
       "5630323        9.213493e+13      F  2016-04-27T15:09:23Z   \n",
       "5629448        3.775115e+14      F  2016-04-27T13:30:56Z   \n",
       "\n",
       "                     AppointmentDay  Age      Neighbourhood  Scholarship  \\\n",
       "AppointmentID                                                              \n",
       "5642903        2016-04-29T00:00:00Z   62    JARDIM DA PENHA            0   \n",
       "5642503        2016-04-29T00:00:00Z   56    JARDIM DA PENHA            0   \n",
       "5642549        2016-04-29T00:00:00Z   62      MATA DA PRAIA            0   \n",
       "5642828        2016-04-29T00:00:00Z    8  PONTAL DE CAMBURI            0   \n",
       "5642494        2016-04-29T00:00:00Z   56    JARDIM DA PENHA            0   \n",
       "5626772        2016-04-29T00:00:00Z   76          REPÚBLICA            0   \n",
       "5630279        2016-04-29T00:00:00Z   23         GOIABEIRAS            0   \n",
       "5630575        2016-04-29T00:00:00Z   39         GOIABEIRAS            0   \n",
       "5638447        2016-04-29T00:00:00Z   21         ANDORINHAS            0   \n",
       "5629123        2016-04-29T00:00:00Z   19          CONQUISTA            0   \n",
       "5630213        2016-04-29T00:00:00Z   30     NOVA PALESTINA            0   \n",
       "5620163        2016-04-29T00:00:00Z   29     NOVA PALESTINA            0   \n",
       "5634718        2016-04-29T00:00:00Z   22     NOVA PALESTINA            1   \n",
       "5636249        2016-04-29T00:00:00Z   28     NOVA PALESTINA            0   \n",
       "5633951        2016-04-29T00:00:00Z   54     NOVA PALESTINA            0   \n",
       "5620206        2016-04-29T00:00:00Z   15     NOVA PALESTINA            0   \n",
       "5633121        2016-04-29T00:00:00Z   50     NOVA PALESTINA            0   \n",
       "5633460        2016-04-29T00:00:00Z   40          CONQUISTA            1   \n",
       "5621836        2016-04-29T00:00:00Z   30     NOVA PALESTINA            1   \n",
       "5640433        2016-04-29T00:00:00Z   46           DA PENHA            0   \n",
       "5626083        2016-04-29T00:00:00Z   30     NOVA PALESTINA            0   \n",
       "5628338        2016-04-29T00:00:00Z    4          CONQUISTA            0   \n",
       "5616091        2016-04-29T00:00:00Z   13          CONQUISTA            0   \n",
       "5634142        2016-04-29T00:00:00Z   46          CONQUISTA            0   \n",
       "5641780        2016-04-29T00:00:00Z   65         TABUAZEIRO            0   \n",
       "5624020        2016-04-29T00:00:00Z   46          CONQUISTA            0   \n",
       "5641781        2016-04-29T00:00:00Z   45     BENTO FERREIRA            0   \n",
       "5628345        2016-04-29T00:00:00Z    4          CONQUISTA            0   \n",
       "5642400        2016-04-29T00:00:00Z   51          SÃO PEDRO            0   \n",
       "5642186        2016-04-29T00:00:00Z   32       SANTA MARTHA            0   \n",
       "...                             ...  ...                ...          ...   \n",
       "5757745        2016-06-01T00:00:00Z   76        MARIA ORTIZ            0   \n",
       "5787655        2016-06-08T00:00:00Z   59        MARIA ORTIZ            0   \n",
       "5757697        2016-06-01T00:00:00Z   66        MARIA ORTIZ            0   \n",
       "5787233        2016-06-08T00:00:00Z   59        MARIA ORTIZ            0   \n",
       "5758133        2016-06-01T00:00:00Z   44        MARIA ORTIZ            0   \n",
       "5787937        2016-06-08T00:00:00Z   22         GOIABEIRAS            0   \n",
       "5759473        2016-06-01T00:00:00Z   64       SOLON BORGES            0   \n",
       "5788052        2016-06-08T00:00:00Z    4        MARIA ORTIZ            0   \n",
       "5758455        2016-06-01T00:00:00Z   55        MARIA ORTIZ            0   \n",
       "5758779        2016-06-01T00:00:00Z    5        MARIA ORTIZ            0   \n",
       "5786918        2016-06-08T00:00:00Z    0        MARIA ORTIZ            0   \n",
       "5757656        2016-06-01T00:00:00Z   59        MARIA ORTIZ            0   \n",
       "5786750        2016-06-08T00:00:00Z   33        MARIA ORTIZ            0   \n",
       "5757587        2016-06-01T00:00:00Z   64       SOLON BORGES            0   \n",
       "5786742        2016-06-08T00:00:00Z   14        MARIA ORTIZ            0   \n",
       "5786368        2016-06-08T00:00:00Z   41        MARIA ORTIZ            0   \n",
       "5785964        2016-06-08T00:00:00Z    2    ANTÔNIO HONÓRIO            0   \n",
       "5786567        2016-06-08T00:00:00Z   58        MARIA ORTIZ            0   \n",
       "5778621        2016-06-08T00:00:00Z   33        MARIA ORTIZ            0   \n",
       "5780205        2016-06-08T00:00:00Z   37        MARIA ORTIZ            0   \n",
       "5780122        2016-06-07T00:00:00Z   19        MARIA ORTIZ            0   \n",
       "5630375        2016-06-07T00:00:00Z   50        MARIA ORTIZ            0   \n",
       "5630447        2016-06-07T00:00:00Z   22        MARIA ORTIZ            0   \n",
       "5650534        2016-06-07T00:00:00Z   42        MARIA ORTIZ            0   \n",
       "5651072        2016-06-07T00:00:00Z   53        MARIA ORTIZ            0   \n",
       "5651768        2016-06-07T00:00:00Z   56        MARIA ORTIZ            0   \n",
       "5650093        2016-06-07T00:00:00Z   51        MARIA ORTIZ            0   \n",
       "5630692        2016-06-07T00:00:00Z   21        MARIA ORTIZ            0   \n",
       "5630323        2016-06-07T00:00:00Z   38        MARIA ORTIZ            0   \n",
       "5629448        2016-06-07T00:00:00Z   54        MARIA ORTIZ            0   \n",
       "\n",
       "               Hipertension  Diabetes  Alcoholism No-show  \n",
       "AppointmentID                                              \n",
       "5642903                   1         0           0      No  \n",
       "5642503                   0         0           0      No  \n",
       "5642549                   0         0           0      No  \n",
       "5642828                   0         0           0      No  \n",
       "5642494                   1         1           0      No  \n",
       "5626772                   1         0           0      No  \n",
       "5630279                   0         0           0     Yes  \n",
       "5630575                   0         0           0     Yes  \n",
       "5638447                   0         0           0      No  \n",
       "5629123                   0         0           0      No  \n",
       "5630213                   0         0           0      No  \n",
       "5620163                   0         0           0     Yes  \n",
       "5634718                   0         0           0      No  \n",
       "5636249                   0         0           0      No  \n",
       "5633951                   0         0           0      No  \n",
       "5620206                   0         0           0      No  \n",
       "5633121                   0         0           0      No  \n",
       "5633460                   0         0           0     Yes  \n",
       "5621836                   0         0           0      No  \n",
       "5640433                   0         0           0      No  \n",
       "5626083                   0         0           0     Yes  \n",
       "5628338                   0         0           0     Yes  \n",
       "5616091                   0         0           0     Yes  \n",
       "5634142                   0         0           0      No  \n",
       "5641780                   0         0           0      No  \n",
       "5624020                   1         0           0      No  \n",
       "5641781                   1         0           0      No  \n",
       "5628345                   0         0           0      No  \n",
       "5642400                   0         0           0      No  \n",
       "5642186                   0         0           0      No  \n",
       "...                     ...       ...         ...     ...  \n",
       "5757745                   0         0           0      No  \n",
       "5787655                   0         0           0      No  \n",
       "5757697                   1         1           0      No  \n",
       "5787233                   0         0           0      No  \n",
       "5758133                   0         0           0      No  \n",
       "5787937                   0         0           0      No  \n",
       "5759473                   0         0           0      No  \n",
       "5788052                   0         0           0      No  \n",
       "5758455                   0         0           0      No  \n",
       "5758779                   0         0           0      No  \n",
       "5786918                   0         0           0      No  \n",
       "5757656                   0         0           0      No  \n",
       "5786750                   0         0           0      No  \n",
       "5757587                   0         0           0      No  \n",
       "5786742                   0         0           0      No  \n",
       "5786368                   0         0           0      No  \n",
       "5785964                   0         0           0      No  \n",
       "5786567                   0         0           0      No  \n",
       "5778621                   1         0           0     Yes  \n",
       "5780205                   0         0           0     Yes  \n",
       "5780122                   0         0           0      No  \n",
       "5630375                   0         0           0      No  \n",
       "5630447                   0         0           0      No  \n",
       "5650534                   0         0           0      No  \n",
       "5651072                   0         0           0      No  \n",
       "5651768                   0         0           0      No  \n",
       "5650093                   0         0           0      No  \n",
       "5630692                   0         0           0      No  \n",
       "5630323                   0         0           0      No  \n",
       "5629448                   0         0           0      No  \n",
       "\n",
       "[110527 rows x 11 columns]"
      ]
     },
     "execution_count": 13,
     "metadata": {},
     "output_type": "execute_result"
    }
   ],
   "source": [
    "del df_appointments['Handcap']\n",
    "del df_appointments['SMS_received']\n",
    "\n",
    "df_appointments"
   ]
  },
  {
   "cell_type": "markdown",
   "metadata": {},
   "source": [
    "<a id='eda'></a>\n",
    "## Exploratory Data Analysis"
   ]
  },
  {
   "cell_type": "markdown",
   "metadata": {},
   "source": [
    "### **1)** Who are most missing out appointments are men or women?"
   ]
  },
  {
   "cell_type": "code",
   "execution_count": 14,
   "metadata": {},
   "outputs": [],
   "source": [
    "df_Gender_No_Show = df_appointments[['Gender','No-show']]\n",
    "df_F_M_No_Show = df_Gender_No_Show[df_Gender_No_Show['No-show'] == 'Yes']"
   ]
  },
  {
   "cell_type": "code",
   "execution_count": 15,
   "metadata": {},
   "outputs": [
    {
     "data": {
      "text/plain": [
       "<matplotlib.axes._subplots.AxesSubplot at 0x7f3bef4479e8>"
      ]
     },
     "execution_count": 15,
     "metadata": {},
     "output_type": "execute_result"
    },
    {
     "data": {
      "image/png": "[encoded data removed]",
      "text/plain": [
       "<matplotlib.figure.Figure at 0x7f3bef447048>"
      ]
     },
     "metadata": {},
     "output_type": "display_data"
    }
   ],
   "source": [
    "df_F_M_No_Show_group = df_F_M_No_Show.groupby(['Gender']).agg(['count'])\n",
    "df_F_M_No_Show_group.plot.bar(figsize=(8, 3))"
   ]
  },
  {
   "cell_type": "markdown",
   "metadata": {},
   "source": [
    "### Analysis:\n",
    "Women don't show up for appoitments ~45% more times than Men."
   ]
  },
  {
   "cell_type": "markdown",
   "metadata": {},
   "source": [
    "### **2)** What is the proportion of patients don't show up for their appointments?"
   ]
  },
  {
   "cell_type": "code",
   "execution_count": 17,
   "metadata": {},
   "outputs": [
    {
     "name": "stdout",
     "output_type": "stream",
     "text": [
      "0.20193255946510807\n"
     ]
    }
   ],
   "source": [
    "amount_patients_no_show = len(df_appointments[df_appointments['No-show'] == 'Yes'])\n",
    "total = len(df_appointments)\n",
    "\n",
    "proportion_no_show = amount_patients_no_show/total\n",
    "print(proportion_no_show)"
   ]
  },
  {
   "cell_type": "markdown",
   "metadata": {},
   "source": [
    "### Analysis:\n",
    "20% of the patients don't show up for their appointments. "
   ]
  },
  {
   "cell_type": "markdown",
   "metadata": {},
   "source": [
    "### **3)** What is the distribution of age of patients that don't show up for their appointments?"
   ]
  },
  {
   "cell_type": "code",
   "execution_count": 27,
   "metadata": {},
   "outputs": [
    {
     "data": {
      "text/plain": [
       "<matplotlib.axes._subplots.AxesSubplot at 0x7f3be461b4e0>"
      ]
     },
     "execution_count": 27,
     "metadata": {},
     "output_type": "execute_result"
    },
    {
     "data": {
      "image/png": "[encoded data removed]",
      "text/plain": [
       "<matplotlib.figure.Figure at 0x7f3be4884e48>"
      ]
     },
     "metadata": {},
     "output_type": "display_data"
    }
   ],
   "source": [
    "age_patients_no_show = df_appointments[df_appointments['No-show'] == 'Yes']\n",
    "age_patients_no_show = age_patients_no_show[['Age','No-show']]\n",
    "age_patients_no_show['Age'].hist(bins=50, figsize=(15, 4))"
   ]
  },
  {
   "cell_type": "code",
   "execution_count": 20,
   "metadata": {},
   "outputs": [
    {
     "data": {
      "text/plain": [
       "<matplotlib.axes._subplots.AxesSubplot at 0x7f3be4884be0>"
      ]
     },
     "execution_count": 20,
     "metadata": {},
     "output_type": "execute_result"
    },
    {
     "data": {
      "image/png": "[encoded data removed]",
      "text/plain": [
       "<matplotlib.figure.Figure at 0x7f3be48843c8>"
      ]
     },
     "metadata": {},
     "output_type": "display_data"
    }
   ],
   "source": [
    "age_patients_no_show['Age'].plot.kde(figsize=(15, 4))"
   ]
  },
  {
   "cell_type": "markdown",
   "metadata": {},
   "source": [
    "### Analysis:\n",
    "\n",
    "* Young people and childen represents the range with more noncompliance appointments;\n",
    "* As long as you getting older the chance to accomplish an appointments increases;\n",
    "* There is some event each 4 years represents by peaks through the histogram.\n"
   ]
  },
  {
   "cell_type": "markdown",
   "metadata": {},
   "source": [
    "### **4)** Is there any relation between desease and show up for an appointment?"
   ]
  },
  {
   "cell_type": "code",
   "execution_count": 28,
   "metadata": {},
   "outputs": [
    {
     "data": {
      "text/html": [
       "<div>\n",
       "<style>\n",
       "    .dataframe thead tr:only-child th {\n",
       "        text-align: right;\n",
       "    }\n",
       "\n",
       "    .dataframe thead th {\n",
       "        text-align: left;\n",
       "    }\n",
       "\n",
       "    .dataframe tbody tr th {\n",
       "        vertical-align: top;\n",
       "    }\n",
       "</style>\n",
       "<table border=\"1\" class=\"dataframe\">\n",
       "  <thead>\n",
       "    <tr style=\"text-align: right;\">\n",
       "      <th></th>\n",
       "      <th>Scholarship</th>\n",
       "      <th>Hipertension</th>\n",
       "      <th>Diabetes</th>\n",
       "      <th>Alcoholism</th>\n",
       "      <th>No-show</th>\n",
       "    </tr>\n",
       "  </thead>\n",
       "  <tbody>\n",
       "    <tr>\n",
       "      <th>Scholarship</th>\n",
       "      <td>1.000000</td>\n",
       "      <td>-0.019729</td>\n",
       "      <td>-0.024894</td>\n",
       "      <td>0.035022</td>\n",
       "      <td>0.029135</td>\n",
       "    </tr>\n",
       "    <tr>\n",
       "      <th>Hipertension</th>\n",
       "      <td>-0.019729</td>\n",
       "      <td>1.000000</td>\n",
       "      <td>0.433086</td>\n",
       "      <td>0.087971</td>\n",
       "      <td>-0.035701</td>\n",
       "    </tr>\n",
       "    <tr>\n",
       "      <th>Diabetes</th>\n",
       "      <td>-0.024894</td>\n",
       "      <td>0.433086</td>\n",
       "      <td>1.000000</td>\n",
       "      <td>0.018474</td>\n",
       "      <td>-0.015180</td>\n",
       "    </tr>\n",
       "    <tr>\n",
       "      <th>Alcoholism</th>\n",
       "      <td>0.035022</td>\n",
       "      <td>0.087971</td>\n",
       "      <td>0.018474</td>\n",
       "      <td>1.000000</td>\n",
       "      <td>-0.000196</td>\n",
       "    </tr>\n",
       "    <tr>\n",
       "      <th>No-show</th>\n",
       "      <td>0.029135</td>\n",
       "      <td>-0.035701</td>\n",
       "      <td>-0.015180</td>\n",
       "      <td>-0.000196</td>\n",
       "      <td>1.000000</td>\n",
       "    </tr>\n",
       "  </tbody>\n",
       "</table>\n",
       "</div>"
      ],
      "text/plain": [
       "              Scholarship  Hipertension  Diabetes  Alcoholism   No-show\n",
       "Scholarship      1.000000     -0.019729 -0.024894    0.035022  0.029135\n",
       "Hipertension    -0.019729      1.000000  0.433086    0.087971 -0.035701\n",
       "Diabetes        -0.024894      0.433086  1.000000    0.018474 -0.015180\n",
       "Alcoholism       0.035022      0.087971  0.018474    1.000000 -0.000196\n",
       "No-show          0.029135     -0.035701 -0.015180   -0.000196  1.000000"
      ]
     },
     "execution_count": 28,
     "metadata": {},
     "output_type": "execute_result"
    }
   ],
   "source": [
    "df_desease_no_show = df_appointments[['Scholarship','Hipertension','Diabetes','Alcoholism','No-show']]\n",
    "df_desease_no_show.is_copy = False\n",
    "df_desease_no_show['No-show'] = df_desease_no_show['No-show'].map({'No': 0, 'Yes': 1})\n",
    "df_desease_no_show.corr()"
   ]
  },
  {
   "cell_type": "markdown",
   "metadata": {},
   "source": [
    "### Analysis:\n",
    "Scholarship (welfair) and diseases as Hipertension, Diabetes and Alcoholism there is no correlation with show up for an appointment or don't.\n"
   ]
  },
  {
   "cell_type": "markdown",
   "metadata": {},
   "source": [
    "### **5)** Where is the city with most no-show ups?"
   ]
  },
  {
   "cell_type": "code",
   "execution_count": 31,
   "metadata": {},
   "outputs": [
    {
     "data": {
      "text/plain": [
       "<matplotlib.axes._subplots.AxesSubplot at 0x7f3be42795f8>"
      ]
     },
     "execution_count": 31,
     "metadata": {},
     "output_type": "execute_result"
    },
    {
     "data": {
      "image/png": "[encoded data removed]",
      "text/plain": [
       "<matplotlib.figure.Figure at 0x7f3be42ffb00>"
      ]
     },
     "metadata": {},
     "output_type": "display_data"
    }
   ],
   "source": [
    "df_neigh_no_show = df_appointments[df_appointments['No-show'] == 'Yes']\n",
    "df_neigh_no_show_only = df_neigh_no_show[['Neighbourhood','No-show']]\n",
    "df_neigh_no_show_gp = df_neigh_no_show_only.groupby(['Neighbourhood']).agg(['count'])\n",
    "df_neigh_no_show_gp = df_neigh_no_show_gp.sort_values(('No-show', 'count'), ascending=0)\n",
    "\n",
    "df_neigh_no_show_gp.plot.bar(figsize=(18, 4))"
   ]
  },
  {
   "cell_type": "markdown",
   "metadata": {},
   "source": [
    "### Analysis:\n",
    "* The first 2 cities has 10% of all no-show cases;\n",
    "* The 16 first cities has 50% of all no-show cases;\n",
    "* Neighbourhood is a variable related with no-show up for an appointment.\n"
   ]
  },
  {
   "cell_type": "markdown",
   "metadata": {},
   "source": [
    "### **6)** What factors are important for us to know in order to predict if a patient will show up for their scheduled appointment?"
   ]
  },
  {
   "cell_type": "markdown",
   "metadata": {},
   "source": [
    "We detect two important variables to predict No-show variable:\n",
    "* **Neighbourhood**\n",
    "* **Age**"
   ]
  },
  {
   "cell_type": "markdown",
   "metadata": {},
   "source": [
    "<a id='conclusions'></a>\n",
    "## Conclusions\n",
    "\n",
    "> **Tip**: Finally, summarize your findings and the results that have been performed. Make sure that you are clear with regards to the limitations of your exploration. If you haven't done any statistical tests, do not imply any statistical conclusions. And make sure you avoid implying causation from correlation!\n",
    "\n",
    "> **Tip**: Once you are satisfied with your work, you should save a copy of the report in HTML or PDF form. Before exporting your report, check over it to make sure that the flow of the report is complete. You should probably remove all of the \"Tip\" quotes like this one so that the presentation is as tidy as possible. It's also a good idea to look over the project rubric, found on the project submission page at the end of the lesson.\n",
    "\n",
    "> To export the report to the workspace, you should run the code cell below. If it worked correctly, you should get a return code of 0, and you should see the generated .html file in the workspace directory (click on the jupyter icon in the upper left). Alternatively, you can download the html report via the **File** > **Download as** submenu and then manually upload it to the workspace directory. Once you've done this, you can submit your project by clicking on the \"Submit Project\" button in the lower right. Congratulations!"
   ]
  },
  {
   "cell_type": "markdown",
   "metadata": {},
   "source": [
    "## Conclusions:\n",
    "\n",
    "* Young people and childen represents the range with more noncompliance appointments;\n",
    "* As long as you getting older the chance to accomplish an appointments increases;\n",
    "* 20% of the patients don't show up for their appointments. \n",
    "* Women don't show up for appoitments ~45% more times than Men.\n",
    "* There is some event each 4 years represents by peaks through the histogram.\n",
    "* Scholarship (welfair) and diseases as Hipertension, Diabetes and Alcoholism there is no correlation with show up for an appointment or don't.\n",
    "* Only Jardim Camburi and Maria Ortiz has together 10% of all no-show cases;\n",
    "* Neighbourhood is a variable related with no-show up for an appointment."
   ]
  },
  {
   "cell_type": "code",
   "execution_count": null,
   "metadata": {},
   "outputs": [],
   "source": [
    "from subprocess import call\n",
    "call(['python', '-m', 'nbconvert', 'Investigate_a_Dataset.ipynb'])"
   ]
  }
 ],
 "metadata": {
  "kernelspec": {
   "display_name": "Python 3",
   "language": "python",
   "name": "python3"
  },
  "language_info": {
   "codemirror_mode": {
    "name": "ipython",
    "version": 3
   },
   "file_extension": ".py",
   "mimetype": "text/x-python",
   "name": "python",
   "nbconvert_exporter": "python",
   "pygments_lexer": "ipython3",
   "version": "3.6.3"
  }
 },
 "nbformat": 4,
 "nbformat_minor": 2
}
