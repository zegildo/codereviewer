{
 "cells": [
  {
   "cell_type": "markdown",
   "metadata": {},
   "source": [
    "# Project: **Wrangle OpenStreetMap Data**\n"
   ]
  },
  {
   "cell_type": "markdown",
   "metadata": {},
   "source": [
    "### 1. Map Area\n",
    "\n",
    "* [Campina Grande, PB, Brazil](https://en.wikipedia.org/wiki/Campina_Grande)\n",
    "\n",
    "This is where my parents live. I’m very interested to see what database querying reveals. I also wish to contribute to improve OpenStreetMap.org making this data chunck more useful for everyone."
   ]
  },
  {
   "cell_type": "markdown",
   "metadata": {},
   "source": [
    "### 2. Getting Data"
   ]
  },
  {
   "cell_type": "markdown",
   "metadata": {},
   "source": [
    "To get the data used in this task:\n",
    "\n",
    "1. OpenStreetMap: https://www.openstreetmap.org/relation/301079\n",
    "\n",
    "2. Overpass API: http://overpass-api.de/query_form.html\n",
    "    \n",
    "3. Query Form: *(Using the same values given on the EXPORT page in OpenStreetMap)*\n",
    "\n",
    "    ```ruby\n",
    "    (\n",
    "    node(-7.4775,-36.2357,-7.0641,-7.0641);\n",
    "    <;\n",
    "    );out meta;\n",
    "\n",
    "    ```\n",
    "    \n",
    "4. Transform OSM in CSV files using script python\n",
    "5. Insert csv files in a relational database ()\n"
   ]
  },
  {
   "cell_type": "markdown",
   "metadata": {},
   "source": [
    "### 3. Inserting Data on Relational Database"
   ]
  },
  {
   "cell_type": "markdown",
   "metadata": {},
   "source": [
    "1. [Creating *nodes* and *ways* schema](file)\n"
   ]
  },
  {
   "cell_type": "markdown",
   "metadata": {},
   "source": [
    "```sql\n",
    "create table nodes(\n",
    "\tid bigserial,\n",
    "\tlat numeric,\n",
    "\tlon numeric,\n",
    "\tuser_name varchar(200),\n",
    "\tuid integer,\n",
    "\tversion integer,\n",
    "\tchangeset integer,\n",
    "\ttimestamp timestamp,\n",
    "\n",
    "\tprimary key(id)\n",
    ");\n",
    "\n",
    "create table nodes_tags(\n",
    "\tid bigserial,\n",
    "\tkey varchar(200),\n",
    "\ttype varchar(200),\n",
    "\tvalue varchar(200)\n",
    ");\n",
    "\n",
    "create table ways(\n",
    "\tid bigserial,\n",
    "\tuser_name varchar(200),\n",
    "\tuid integer, \n",
    "\tversion integer,\n",
    "\tchangeset integer, \n",
    "\ttimestamp timestamp\n",
    ");\n",
    "\n",
    "create table ways_tags(\n",
    "\tid bigserial, \n",
    "\tkey varchar(200),\n",
    "\tvalue varchar(2000), \n",
    "\ttype varchar(200)\n",
    ");\n",
    "```"
   ]
  },
  {
   "cell_type": "markdown",
   "metadata": {},
   "source": [
    "2. Insert values:\n",
    "\n",
    "```sql\n",
    "COPY nodes(id,lat,lon,user_name,uid,version,changeset,timestamp) \n",
    "FROM '../csvs/nodes.csv' DELIMITER ',' CSV HEADER;\n",
    "\n",
    "COPY nodes_tags(key,type,id,value) \n",
    "FROM '../csvs/nodes_tags.csv' DELIMITER ',' CSV HEADER;\n",
    "\n",
    "COPY ways(id,user_name,uid,version,changeset,timestamp) \n",
    "FROM '../csvs/ways.csv' DELIMITER ',' CSV HEADER;\n",
    "\n",
    "COPY ways_nodes(id,node_id,position) \n",
    "FROM '../csvs/ways_nodes.csv' DELIMITER ',' CSV HEADER;\n",
    "\n",
    "COPY ways_tags(id,key,value,type) \n",
    "FROM '../csvs/ways_tags.csv' DELIMITER ',' CSV HEADER;\n",
    "```"
   ]
  },
  {
   "cell_type": "markdown",
   "metadata": {},
   "source": [
    "### Problems Encountered in the Map\n"
   ]
  },
  {
   "cell_type": "markdown",
   "metadata": {
    "collapsed": true
   },
   "source": [
    "### Problem match"
   ]
  },
  {
   "cell_type": "markdown",
   "metadata": {},
   "source": [
    "### Overabbreviated Street Names\n"
   ]
  },
  {
   "cell_type": "markdown",
   "metadata": {},
   "source": [
    "### Postal Codes"
   ]
  },
  {
   "cell_type": "markdown",
   "metadata": {},
   "source": [
    "# Sort cities by count, descending\n"
   ]
  },
  {
   "cell_type": "markdown",
   "metadata": {},
   "source": [
    "# Data Overview and Additional Ideas\n"
   ]
  },
  {
   "cell_type": "markdown",
   "metadata": {},
   "source": [
    "### File sizes"
   ]
  },
  {
   "cell_type": "markdown",
   "metadata": {},
   "source": [
    "### Number of nodes"
   ]
  },
  {
   "cell_type": "markdown",
   "metadata": {},
   "source": [
    "### Number of ways"
   ]
  },
  {
   "cell_type": "markdown",
   "metadata": {},
   "source": [
    "### Number of unique users"
   ]
  },
  {
   "cell_type": "markdown",
   "metadata": {},
   "source": [
    "### Top 10 contributing users\n"
   ]
  },
  {
   "cell_type": "markdown",
   "metadata": {},
   "source": [
    "### Number of users appearing only once (having 1 post)\n"
   ]
  },
  {
   "cell_type": "markdown",
   "metadata": {},
   "source": [
    "# Additional Ideas\n"
   ]
  },
  {
   "cell_type": "markdown",
   "metadata": {},
   "source": [
    "### Contributor statistics and gamification suggestion\n"
   ]
  },
  {
   "cell_type": "markdown",
   "metadata": {},
   "source": [
    "### Additional Data Exploration\n"
   ]
  },
  {
   "cell_type": "markdown",
   "metadata": {},
   "source": [
    "### Top 10 appearing amenities\n"
   ]
  },
  {
   "cell_type": "markdown",
   "metadata": {},
   "source": [
    "### Biggest religion (no surprise here)"
   ]
  },
  {
   "cell_type": "markdown",
   "metadata": {},
   "source": [
    "### Most popular cuisines"
   ]
  },
  {
   "cell_type": "markdown",
   "metadata": {},
   "source": [
    "# Conclusion\n"
   ]
  },
  {
   "cell_type": "code",
   "execution_count": null,
   "metadata": {
    "collapsed": true
   },
   "outputs": [],
   "source": []
  }
 ],
 "metadata": {
  "kernelspec": {
   "display_name": "Python 2",
   "language": "python",
   "name": "python2"
  },
  "language_info": {
   "codemirror_mode": {
    "name": "ipython",
    "version": 2
   },
   "file_extension": ".py",
   "mimetype": "text/x-python",
   "name": "python",
   "nbconvert_exporter": "python",
   "pygments_lexer": "ipython2",
   "version": "2.7.10"
  }
 },
 "nbformat": 4,
 "nbformat_minor": 0
}
